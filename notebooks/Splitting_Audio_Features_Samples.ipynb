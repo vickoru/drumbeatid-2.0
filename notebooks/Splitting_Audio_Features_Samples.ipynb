{
 "cells": [
  {
   "cell_type": "code",
   "execution_count": 1,
   "id": "b1bca5c4",
   "metadata": {},
   "outputs": [],
   "source": [
    "%load_ext autoreload\n",
    "%autoreload 2"
   ]
  },
  {
   "cell_type": "code",
   "execution_count": 2,
   "id": "db41e616",
   "metadata": {},
   "outputs": [
    {
     "name": "stderr",
     "output_type": "stream",
     "text": [
      "2023-12-11 23:19:55.375880: I tensorflow/core/platform/cpu_feature_guard.cc:193] This TensorFlow binary is optimized with oneAPI Deep Neural Network Library (oneDNN) to use the following CPU instructions in performance-critical operations:  AVX2 FMA\n",
      "To enable them in other operations, rebuild TensorFlow with the appropriate compiler flags.\n"
     ]
    }
   ],
   "source": [
    "import numpy as np\n",
    "import matplotlib.pyplot as plt\n",
    "import scipy\n",
    "from scipy.io import wavfile\n",
    "from IPython.display import Audio\n",
    "from scipy import fft\n",
    "import librosa\n",
    "import librosa.display\n",
    "from wavinfo import WavInfoReader\n",
    "import pandas as pd\n",
    "import os\n",
    "import sys\n",
    "import seaborn as sns\n",
    "\n",
    "from sklearn.preprocessing import LabelEncoder\n",
    "from sklearn.model_selection import train_test_split\n",
    "from tensorflow.keras import models,layers\n",
    "from tensorflow.keras.utils import to_categorical, plot_model\n",
    "from tensorflow.keras.callbacks import EarlyStopping\n"
   ]
  },
  {
   "cell_type": "code",
   "execution_count": 30,
   "id": "8443d251",
   "metadata": {},
   "outputs": [],
   "source": [
    "def calculate_mfccs(waveform, samplingrate, number_coeffs=128):\n",
    "    '''\n",
    "    Caluculate Mel frequency cepstral coefficients.\n",
    "    Input:\n",
    "    waveform: array representing the waveform originating from audio file\n",
    "    samplingrate: sampling rate from audio\n",
    "    number_coeffs: total number of coefficients to calculate, default is 20\n",
    "    Output: array of mfccs\n",
    "    '''\n",
    "    mfccs = librosa.feature.mfcc(y=waveform, sr=samplingrate,\n",
    "                                 n_mfcc=number_coeffs)\n",
    "    return mfccs\n",
    "\n",
    "\n",
    "def calculate_specbandwidth(waveform, samplingrate, order_p=2):\n",
    "    '''\n",
    "    Calculates spectral bandwithd of oder p\n",
    "    '''\n",
    "    specbw = librosa.feature.spectral_bandwidth(y=waveform, sr=samplingrate,\n",
    "                                                p=order_p)\n",
    "\n",
    "    return specbw\n",
    "\n",
    "\n",
    "def calculate_spectralcentroid(waveform, samplingrate, nfft=2048, hoplength=512):\n",
    "    '''\n",
    "    Calculate spectral centroid\n",
    "    '''\n",
    "    specent = librosa.feature.spectral_centroid(y=waveform,\n",
    "                                                sr=samplingrate, n_fft=nfft,\n",
    "                                                hop_length=hoplength)\n",
    "\n",
    "    return specent\n",
    "\n",
    "\n",
    "def calculate_chroma(waveform, samplingrate, nfft=2048, hoplength=512):\n",
    "    '''\n",
    "    Chroma Feature calculation with a hop length of 512 as default\n",
    "\n",
    "    '''\n",
    "    chromafeat = librosa.feature.chroma_stft(y=waveform, sr=samplingrate,\n",
    "                                             n_fft=nfft,\n",
    "                                             hop_length=hoplength)\n",
    "\n",
    "    return chromafeat\n",
    "\n",
    "\n",
    "def calculate_zerocrossrate(waveform, framelength=2048, hoplength=512,):\n",
    "    '''\n",
    "    Caluculate Zero crossing rate.\n",
    "\n",
    "    '''\n",
    "    zerocr = librosa.feature.zero_crossing_rate(y, frame_length=framelength,\n",
    "                                                hop_length=hoplength)\n",
    "\n",
    "    return zerocr\n",
    "\n",
    "\n",
    "def calculate_spectralroff(waveform, samplingrate, nfft=2048, hoplength=512):\n",
    "    '''\n",
    "    Calculate spectral roll off of the waveform\n",
    "    '''\n",
    "    specroff = librosa.feature.spectral_rolloff(y=waveform,\n",
    "                                                sr=samplingrate, n_fft=nfft,\n",
    "                                                hop_length=hoplength)\n",
    "\n",
    "    return specroff\n"
   ]
  },
  {
   "cell_type": "code",
   "execution_count": 31,
   "id": "053f419f",
   "metadata": {},
   "outputs": [],
   "source": [
    "def read_audio(audiofile_path, samplingrate=22050, duration=None):\n",
    "    '''\n",
    "    Reading in audiofile, returns 1-dimensional array x, sampling rate sr\n",
    "    '''\n",
    "\n",
    "    x , sr = librosa.load(audiofile_path, sr=samplingrate, duration=duration)\n",
    "    return x, sr\n",
    "\n",
    "\n",
    "def calculate_spectogram(waveform, nfft=2048, hoplength=512):\n",
    "    '''\n",
    "    ===  1 Spectogram  ===\n",
    "    requires 1-dimensional array x(timeseries), sampling rate sr\n",
    "    returns spectogram, a matplotlib.colormesh object\n",
    "\n",
    "    '''\n",
    "\n",
    "    #performing short time- Fourier analysis\n",
    "    X = librosa.stft(waveform, n_fft=nfft, hop_length=hoplength)\n",
    "\n",
    "    #amplitudes of given frequency at given time -> spectrogram\n",
    "    Xdb = librosa.amplitude_to_db(abs(X))\n",
    "\n",
    "    #plt.figure(figsize=(6, 5), frameon=False)\n",
    "    #librosa.display.specshow(Xdb, sr=sr, x_axis='time', y_axis='hz') # for demonstration purposes\n",
    "    \n",
    "#     spectogram = librosa.display.specshow(Xdb, sr=sr, x_axis=None, y_axis=None) # without axes\n",
    "    \n",
    "    return Xdb \n",
    "\n",
    "def calculate_melspect(waveform, samplingrate, nfft=2048, hoplength=512):\n",
    "    \n",
    "    melspec = librosa.feature.melspectrogram(y=waveform, sr=samplingrate, n_fft=nfft, hop_length=hoplength)\n",
    "    \n",
    "    melspec_dB = librosa.power_to_db(melspec)\n",
    "    \n",
    "    return melspec_dB\n"
   ]
  },
  {
   "cell_type": "code",
   "execution_count": 32,
   "id": "db166808",
   "metadata": {},
   "outputs": [],
   "source": [
    "def padding(feat_matrix, size, axis):\n",
    "    \n",
    "    padded = librosa.util.pad_center(feat_matrix, size=size, axis=axis)\n",
    "    \n",
    "    return padded\n",
    "\n",
    "\n",
    "def padding_waveforms(waveforms, max_length=132300, axis=0):\n",
    "    for idx, values in enumerate(waveforms):\n",
    "        if values.shape[0] < max_length:\n",
    "            waveforms[idx] = librosa.util.pad_center(waveforms[idx], size=max_length, axis=axis)\n",
    "    \n",
    "    return np.array(waveforms)  \n",
    "\n",
    "\n",
    "def minmaxscaling(matrix):\n",
    "    max_ = np.max(matrix)\n",
    "    min_ = np.min(matrix)\n",
    "    norm = np.array((matrix - min_)/(max_ - min_))\n",
    "    \n",
    "    return norm \n"
   ]
  },
  {
   "cell_type": "code",
   "execution_count": 33,
   "id": "96380f3e",
   "metadata": {},
   "outputs": [],
   "source": [
    "def processing_drummers(dataframe):\n",
    "    df_drummers = dataframe.drop(columns=['drummer', 'id', 'session', 'split', 'midi_filename'])\n",
    "    df_drummers = df_drummers.dropna()\n",
    "    df_drummers = df_drummers[df_drummers['beat_type'] == 'beat']\n",
    "    df_drummers['style_new'] = df_drummers['style'].apply(lambda x: x.split('/')[0]) \n",
    "    df_drummers['style'] = df_drummers['style_new']\n",
    "    \n",
    "    return df_drummers.drop(columns='style_new')   \n",
    "\n",
    "def process_genres(drummers_df):\n",
    "    \n",
    "    genres = drummers_df['style'].values\n",
    "\n",
    "    return genres\n",
    "\n",
    "\n",
    "def process_audiofiles(loc, drummers_df, samplingrate=22050, duration=6):\n",
    "    \n",
    "    waveforms_ = drummers_df['audio_filename'].apply(\n",
    "        lambda x: librosa.load(os.path.join(loc, x), sr=samplingrate, duration=duration)).values\n",
    "    # genres = drummers_df['style'].values    \n",
    "    \n",
    "    waveforms = []\n",
    "    sr = []\n",
    "    for values in waveforms_:\n",
    "        waveforms.append(values[0])\n",
    "        sr.append(values[1])\n",
    "    \n",
    "    waveforms_padded = padding_waveforms(waveforms, max_length=132300, axis=0) \n",
    "        \n",
    "    return waveforms_padded, np.array(sr)\n",
    "\n",
    "\n",
    "def spectogram_mfccs(waveform, sr):\n",
    "    mfccs = []\n",
    "    for idx in range(waveform.shape[0]):\n",
    "        mfccs.append(calculate_mfccs(waveform[idx], sr[idx], number_coeffs=128)) # mfccs\n",
    "    \n",
    "    return np.array(mfccs)\n",
    "\n",
    "\n",
    "def spectogram_chroma(waveform, sr):\n",
    "    chroma = []    \n",
    "    for idx in range(waveform.shape[0]):\n",
    "        chroma.append(calculate_chroma(waveform[idx], samplingrate=sr[idx]))\n",
    "    \n",
    "    return np.array(chroma)\n",
    "           \n",
    "\n",
    "def spectogram_stft(waveform):\n",
    "    spectogram_feat = []\n",
    "    for idx in range(waveform.shape[0]):\n",
    "        spectogram_feat.append(calculate_spectogram(waveform[idx]))\n",
    "    \n",
    "    return np.array(spectogram_feat)\n",
    "\n",
    "\n",
    "def spectogram_mel(waveform, sr):\n",
    "    melspect = [] \n",
    "    for idx in range(waveform.shape[0]):\n",
    "        melspect.append(calculate_melspect(waveform[idx], samplingrate=sr[idx]))\n",
    "    \n",
    "    return np.array(melspect)\n",
    "\n",
    "\n",
    "# def spectrograms(waveform, sr, how='all'):\n",
    "#     shape_ = waveform.shape[0]\n",
    "#     if how == 'all':\n",
    "#         return spectogram_stft(waveform), spe\n",
    "#         mfccs = []\n",
    "#         for idx in range(shape_):\n",
    "#             mfccs.append(calculate_mfccs(waveform[idx], sr[idx], number_coeffs=128)) # mfccs        \n",
    "    "
   ]
  },
  {
   "cell_type": "code",
   "execution_count": 34,
   "id": "14e86c80",
   "metadata": {},
   "outputs": [],
   "source": [
    "def reading_audiofile(filename, modus_operandi=\"no_change\", desired_length=6, offset=0.0, pause=1):\n",
    "    ''' reading in audiofiles\n",
    "        requires filename (with path)\n",
    "                modus_operandi:  \"no_change\" -> reading in audiofile in length, no padding\n",
    "                                 \"silence\"-> padding smaller (than desired length) audio files with silence\n",
    "                                 \"repeat\" -> padding smaller audio files with repetitive sound (+ pauses)\n",
    "                desired_length:  in sec, if prespecified length is requested (default value 30)\n",
    "                                 does not apply if \"no_change\" modus is chosen\n",
    "                pause:           in sec, if modus \"repeat\" is chosen: if a pause between repetions is asked\n",
    "        returns x (nd-array), sr (sample rate)\n",
    "    '''\n",
    "\n",
    "    if modus_operandi==\"no_change\":\n",
    "         x , sr = librosa.load(filename, duration=desired_length, offset=0.0)\n",
    "\n",
    "    if modus_operandi==\"repeat\":\n",
    "        # == filling up smaller samples with repeated sounds ==\n",
    "        x , sr = librosa.load(filename, duration= desired_length, offset=0.0)\n",
    "        duration = x.shape[0]/sr        # in seconds\n",
    "        if duration < desired_length:\n",
    "            pause = int(pause * sr)     # seconds (first number) * sampling rate\n",
    "            multiplier = int(desired_length // duration)\n",
    "            single_x=np.append(np.zeros(pause),x)\n",
    "            for i in range(multiplier):\n",
    "                x = np.append(x, single_x)\n",
    "            x=x[0:desired_length*sr]\n",
    "\n",
    "    if modus_operandi==\"silence\":\n",
    "        # == filling up smaller samples with silence ==\n",
    "        x , sr = librosa.load(filename, duration= desired_length)\n",
    "        duration = x.shape[0]/22000        # in seconds\n",
    "        if duration < desired_length:\n",
    "            filling_zeros = desired_length * sr - x.shape[0]\n",
    "            x = np.append(x, np.zeros(filling_zeros))\n",
    "            x=x[0:desired_length*sr]\n",
    "\n",
    "    return x, sr"
   ]
  },
  {
   "cell_type": "code",
   "execution_count": 3,
   "id": "59f0ffd4",
   "metadata": {},
   "outputs": [
    {
     "data": {
      "text/plain": [
       "'/Users/HZB/code/vickoru/drumbeatid-2.0/notebooks/../../../drumbeatid/raw_data/groove'"
      ]
     },
     "execution_count": 3,
     "metadata": {},
     "output_type": "execute_result"
    }
   ],
   "source": [
    "pwd = os.path.abspath('.')\n",
    "loc = os.path.join(pwd, '..', '..', '..' , 'drumbeatid', 'raw_data', 'groove')\n",
    "# loc_ = '../raw_data/groove/info.csv'\n",
    "loc"
   ]
  },
  {
   "cell_type": "code",
   "execution_count": 4,
   "id": "a933af76",
   "metadata": {},
   "outputs": [
    {
     "ename": "FileNotFoundError",
     "evalue": "[Errno 2] No such file or directory: '/Users/HZB/code/vickoru/drumbeatid-2.0/notebooks/../../../drumbeatid/raw_data/groove/info.csv'",
     "output_type": "error",
     "traceback": [
      "\u001b[0;31m---------------------------------------------------------------------------\u001b[0m",
      "\u001b[0;31mFileNotFoundError\u001b[0m                         Traceback (most recent call last)",
      "Cell \u001b[0;32mIn[4], line 1\u001b[0m\n\u001b[0;32m----> 1\u001b[0m df \u001b[38;5;241m=\u001b[39m \u001b[43mpd\u001b[49m\u001b[38;5;241;43m.\u001b[39;49m\u001b[43mread_csv\u001b[49m\u001b[43m(\u001b[49m\u001b[43mos\u001b[49m\u001b[38;5;241;43m.\u001b[39;49m\u001b[43mpath\u001b[49m\u001b[38;5;241;43m.\u001b[39;49m\u001b[43mjoin\u001b[49m\u001b[43m(\u001b[49m\u001b[43mloc\u001b[49m\u001b[43m,\u001b[49m\u001b[43m \u001b[49m\u001b[38;5;124;43m'\u001b[39;49m\u001b[38;5;124;43minfo.csv\u001b[39;49m\u001b[38;5;124;43m'\u001b[39;49m\u001b[43m)\u001b[49m\u001b[43m)\u001b[49m\n\u001b[1;32m      2\u001b[0m df\u001b[38;5;241m.\u001b[39msample(\u001b[38;5;241m5\u001b[39m)\n",
      "File \u001b[0;32m~/.pyenv/versions/3.10.6/envs/drumbeatid-2.0/lib/python3.10/site-packages/pandas/io/parsers/readers.py:912\u001b[0m, in \u001b[0;36mread_csv\u001b[0;34m(filepath_or_buffer, sep, delimiter, header, names, index_col, usecols, dtype, engine, converters, true_values, false_values, skipinitialspace, skiprows, skipfooter, nrows, na_values, keep_default_na, na_filter, verbose, skip_blank_lines, parse_dates, infer_datetime_format, keep_date_col, date_parser, date_format, dayfirst, cache_dates, iterator, chunksize, compression, thousands, decimal, lineterminator, quotechar, quoting, doublequote, escapechar, comment, encoding, encoding_errors, dialect, on_bad_lines, delim_whitespace, low_memory, memory_map, float_precision, storage_options, dtype_backend)\u001b[0m\n\u001b[1;32m    899\u001b[0m kwds_defaults \u001b[38;5;241m=\u001b[39m _refine_defaults_read(\n\u001b[1;32m    900\u001b[0m     dialect,\n\u001b[1;32m    901\u001b[0m     delimiter,\n\u001b[0;32m   (...)\u001b[0m\n\u001b[1;32m    908\u001b[0m     dtype_backend\u001b[38;5;241m=\u001b[39mdtype_backend,\n\u001b[1;32m    909\u001b[0m )\n\u001b[1;32m    910\u001b[0m kwds\u001b[38;5;241m.\u001b[39mupdate(kwds_defaults)\n\u001b[0;32m--> 912\u001b[0m \u001b[38;5;28;01mreturn\u001b[39;00m \u001b[43m_read\u001b[49m\u001b[43m(\u001b[49m\u001b[43mfilepath_or_buffer\u001b[49m\u001b[43m,\u001b[49m\u001b[43m \u001b[49m\u001b[43mkwds\u001b[49m\u001b[43m)\u001b[49m\n",
      "File \u001b[0;32m~/.pyenv/versions/3.10.6/envs/drumbeatid-2.0/lib/python3.10/site-packages/pandas/io/parsers/readers.py:577\u001b[0m, in \u001b[0;36m_read\u001b[0;34m(filepath_or_buffer, kwds)\u001b[0m\n\u001b[1;32m    574\u001b[0m _validate_names(kwds\u001b[38;5;241m.\u001b[39mget(\u001b[38;5;124m\"\u001b[39m\u001b[38;5;124mnames\u001b[39m\u001b[38;5;124m\"\u001b[39m, \u001b[38;5;28;01mNone\u001b[39;00m))\n\u001b[1;32m    576\u001b[0m \u001b[38;5;66;03m# Create the parser.\u001b[39;00m\n\u001b[0;32m--> 577\u001b[0m parser \u001b[38;5;241m=\u001b[39m \u001b[43mTextFileReader\u001b[49m\u001b[43m(\u001b[49m\u001b[43mfilepath_or_buffer\u001b[49m\u001b[43m,\u001b[49m\u001b[43m \u001b[49m\u001b[38;5;241;43m*\u001b[39;49m\u001b[38;5;241;43m*\u001b[39;49m\u001b[43mkwds\u001b[49m\u001b[43m)\u001b[49m\n\u001b[1;32m    579\u001b[0m \u001b[38;5;28;01mif\u001b[39;00m chunksize \u001b[38;5;129;01mor\u001b[39;00m iterator:\n\u001b[1;32m    580\u001b[0m     \u001b[38;5;28;01mreturn\u001b[39;00m parser\n",
      "File \u001b[0;32m~/.pyenv/versions/3.10.6/envs/drumbeatid-2.0/lib/python3.10/site-packages/pandas/io/parsers/readers.py:1407\u001b[0m, in \u001b[0;36mTextFileReader.__init__\u001b[0;34m(self, f, engine, **kwds)\u001b[0m\n\u001b[1;32m   1404\u001b[0m     \u001b[38;5;28mself\u001b[39m\u001b[38;5;241m.\u001b[39moptions[\u001b[38;5;124m\"\u001b[39m\u001b[38;5;124mhas_index_names\u001b[39m\u001b[38;5;124m\"\u001b[39m] \u001b[38;5;241m=\u001b[39m kwds[\u001b[38;5;124m\"\u001b[39m\u001b[38;5;124mhas_index_names\u001b[39m\u001b[38;5;124m\"\u001b[39m]\n\u001b[1;32m   1406\u001b[0m \u001b[38;5;28mself\u001b[39m\u001b[38;5;241m.\u001b[39mhandles: IOHandles \u001b[38;5;241m|\u001b[39m \u001b[38;5;28;01mNone\u001b[39;00m \u001b[38;5;241m=\u001b[39m \u001b[38;5;28;01mNone\u001b[39;00m\n\u001b[0;32m-> 1407\u001b[0m \u001b[38;5;28mself\u001b[39m\u001b[38;5;241m.\u001b[39m_engine \u001b[38;5;241m=\u001b[39m \u001b[38;5;28;43mself\u001b[39;49m\u001b[38;5;241;43m.\u001b[39;49m\u001b[43m_make_engine\u001b[49m\u001b[43m(\u001b[49m\u001b[43mf\u001b[49m\u001b[43m,\u001b[49m\u001b[43m \u001b[49m\u001b[38;5;28;43mself\u001b[39;49m\u001b[38;5;241;43m.\u001b[39;49m\u001b[43mengine\u001b[49m\u001b[43m)\u001b[49m\n",
      "File \u001b[0;32m~/.pyenv/versions/3.10.6/envs/drumbeatid-2.0/lib/python3.10/site-packages/pandas/io/parsers/readers.py:1661\u001b[0m, in \u001b[0;36mTextFileReader._make_engine\u001b[0;34m(self, f, engine)\u001b[0m\n\u001b[1;32m   1659\u001b[0m     \u001b[38;5;28;01mif\u001b[39;00m \u001b[38;5;124m\"\u001b[39m\u001b[38;5;124mb\u001b[39m\u001b[38;5;124m\"\u001b[39m \u001b[38;5;129;01mnot\u001b[39;00m \u001b[38;5;129;01min\u001b[39;00m mode:\n\u001b[1;32m   1660\u001b[0m         mode \u001b[38;5;241m+\u001b[39m\u001b[38;5;241m=\u001b[39m \u001b[38;5;124m\"\u001b[39m\u001b[38;5;124mb\u001b[39m\u001b[38;5;124m\"\u001b[39m\n\u001b[0;32m-> 1661\u001b[0m \u001b[38;5;28mself\u001b[39m\u001b[38;5;241m.\u001b[39mhandles \u001b[38;5;241m=\u001b[39m \u001b[43mget_handle\u001b[49m\u001b[43m(\u001b[49m\n\u001b[1;32m   1662\u001b[0m \u001b[43m    \u001b[49m\u001b[43mf\u001b[49m\u001b[43m,\u001b[49m\n\u001b[1;32m   1663\u001b[0m \u001b[43m    \u001b[49m\u001b[43mmode\u001b[49m\u001b[43m,\u001b[49m\n\u001b[1;32m   1664\u001b[0m \u001b[43m    \u001b[49m\u001b[43mencoding\u001b[49m\u001b[38;5;241;43m=\u001b[39;49m\u001b[38;5;28;43mself\u001b[39;49m\u001b[38;5;241;43m.\u001b[39;49m\u001b[43moptions\u001b[49m\u001b[38;5;241;43m.\u001b[39;49m\u001b[43mget\u001b[49m\u001b[43m(\u001b[49m\u001b[38;5;124;43m\"\u001b[39;49m\u001b[38;5;124;43mencoding\u001b[39;49m\u001b[38;5;124;43m\"\u001b[39;49m\u001b[43m,\u001b[49m\u001b[43m \u001b[49m\u001b[38;5;28;43;01mNone\u001b[39;49;00m\u001b[43m)\u001b[49m\u001b[43m,\u001b[49m\n\u001b[1;32m   1665\u001b[0m \u001b[43m    \u001b[49m\u001b[43mcompression\u001b[49m\u001b[38;5;241;43m=\u001b[39;49m\u001b[38;5;28;43mself\u001b[39;49m\u001b[38;5;241;43m.\u001b[39;49m\u001b[43moptions\u001b[49m\u001b[38;5;241;43m.\u001b[39;49m\u001b[43mget\u001b[49m\u001b[43m(\u001b[49m\u001b[38;5;124;43m\"\u001b[39;49m\u001b[38;5;124;43mcompression\u001b[39;49m\u001b[38;5;124;43m\"\u001b[39;49m\u001b[43m,\u001b[49m\u001b[43m \u001b[49m\u001b[38;5;28;43;01mNone\u001b[39;49;00m\u001b[43m)\u001b[49m\u001b[43m,\u001b[49m\n\u001b[1;32m   1666\u001b[0m \u001b[43m    \u001b[49m\u001b[43mmemory_map\u001b[49m\u001b[38;5;241;43m=\u001b[39;49m\u001b[38;5;28;43mself\u001b[39;49m\u001b[38;5;241;43m.\u001b[39;49m\u001b[43moptions\u001b[49m\u001b[38;5;241;43m.\u001b[39;49m\u001b[43mget\u001b[49m\u001b[43m(\u001b[49m\u001b[38;5;124;43m\"\u001b[39;49m\u001b[38;5;124;43mmemory_map\u001b[39;49m\u001b[38;5;124;43m\"\u001b[39;49m\u001b[43m,\u001b[49m\u001b[43m \u001b[49m\u001b[38;5;28;43;01mFalse\u001b[39;49;00m\u001b[43m)\u001b[49m\u001b[43m,\u001b[49m\n\u001b[1;32m   1667\u001b[0m \u001b[43m    \u001b[49m\u001b[43mis_text\u001b[49m\u001b[38;5;241;43m=\u001b[39;49m\u001b[43mis_text\u001b[49m\u001b[43m,\u001b[49m\n\u001b[1;32m   1668\u001b[0m \u001b[43m    \u001b[49m\u001b[43merrors\u001b[49m\u001b[38;5;241;43m=\u001b[39;49m\u001b[38;5;28;43mself\u001b[39;49m\u001b[38;5;241;43m.\u001b[39;49m\u001b[43moptions\u001b[49m\u001b[38;5;241;43m.\u001b[39;49m\u001b[43mget\u001b[49m\u001b[43m(\u001b[49m\u001b[38;5;124;43m\"\u001b[39;49m\u001b[38;5;124;43mencoding_errors\u001b[39;49m\u001b[38;5;124;43m\"\u001b[39;49m\u001b[43m,\u001b[49m\u001b[43m \u001b[49m\u001b[38;5;124;43m\"\u001b[39;49m\u001b[38;5;124;43mstrict\u001b[39;49m\u001b[38;5;124;43m\"\u001b[39;49m\u001b[43m)\u001b[49m\u001b[43m,\u001b[49m\n\u001b[1;32m   1669\u001b[0m \u001b[43m    \u001b[49m\u001b[43mstorage_options\u001b[49m\u001b[38;5;241;43m=\u001b[39;49m\u001b[38;5;28;43mself\u001b[39;49m\u001b[38;5;241;43m.\u001b[39;49m\u001b[43moptions\u001b[49m\u001b[38;5;241;43m.\u001b[39;49m\u001b[43mget\u001b[49m\u001b[43m(\u001b[49m\u001b[38;5;124;43m\"\u001b[39;49m\u001b[38;5;124;43mstorage_options\u001b[39;49m\u001b[38;5;124;43m\"\u001b[39;49m\u001b[43m,\u001b[49m\u001b[43m \u001b[49m\u001b[38;5;28;43;01mNone\u001b[39;49;00m\u001b[43m)\u001b[49m\u001b[43m,\u001b[49m\n\u001b[1;32m   1670\u001b[0m \u001b[43m\u001b[49m\u001b[43m)\u001b[49m\n\u001b[1;32m   1671\u001b[0m \u001b[38;5;28;01massert\u001b[39;00m \u001b[38;5;28mself\u001b[39m\u001b[38;5;241m.\u001b[39mhandles \u001b[38;5;129;01mis\u001b[39;00m \u001b[38;5;129;01mnot\u001b[39;00m \u001b[38;5;28;01mNone\u001b[39;00m\n\u001b[1;32m   1672\u001b[0m f \u001b[38;5;241m=\u001b[39m \u001b[38;5;28mself\u001b[39m\u001b[38;5;241m.\u001b[39mhandles\u001b[38;5;241m.\u001b[39mhandle\n",
      "File \u001b[0;32m~/.pyenv/versions/3.10.6/envs/drumbeatid-2.0/lib/python3.10/site-packages/pandas/io/common.py:859\u001b[0m, in \u001b[0;36mget_handle\u001b[0;34m(path_or_buf, mode, encoding, compression, memory_map, is_text, errors, storage_options)\u001b[0m\n\u001b[1;32m    854\u001b[0m \u001b[38;5;28;01melif\u001b[39;00m \u001b[38;5;28misinstance\u001b[39m(handle, \u001b[38;5;28mstr\u001b[39m):\n\u001b[1;32m    855\u001b[0m     \u001b[38;5;66;03m# Check whether the filename is to be opened in binary mode.\u001b[39;00m\n\u001b[1;32m    856\u001b[0m     \u001b[38;5;66;03m# Binary mode does not support 'encoding' and 'newline'.\u001b[39;00m\n\u001b[1;32m    857\u001b[0m     \u001b[38;5;28;01mif\u001b[39;00m ioargs\u001b[38;5;241m.\u001b[39mencoding \u001b[38;5;129;01mand\u001b[39;00m \u001b[38;5;124m\"\u001b[39m\u001b[38;5;124mb\u001b[39m\u001b[38;5;124m\"\u001b[39m \u001b[38;5;129;01mnot\u001b[39;00m \u001b[38;5;129;01min\u001b[39;00m ioargs\u001b[38;5;241m.\u001b[39mmode:\n\u001b[1;32m    858\u001b[0m         \u001b[38;5;66;03m# Encoding\u001b[39;00m\n\u001b[0;32m--> 859\u001b[0m         handle \u001b[38;5;241m=\u001b[39m \u001b[38;5;28;43mopen\u001b[39;49m\u001b[43m(\u001b[49m\n\u001b[1;32m    860\u001b[0m \u001b[43m            \u001b[49m\u001b[43mhandle\u001b[49m\u001b[43m,\u001b[49m\n\u001b[1;32m    861\u001b[0m \u001b[43m            \u001b[49m\u001b[43mioargs\u001b[49m\u001b[38;5;241;43m.\u001b[39;49m\u001b[43mmode\u001b[49m\u001b[43m,\u001b[49m\n\u001b[1;32m    862\u001b[0m \u001b[43m            \u001b[49m\u001b[43mencoding\u001b[49m\u001b[38;5;241;43m=\u001b[39;49m\u001b[43mioargs\u001b[49m\u001b[38;5;241;43m.\u001b[39;49m\u001b[43mencoding\u001b[49m\u001b[43m,\u001b[49m\n\u001b[1;32m    863\u001b[0m \u001b[43m            \u001b[49m\u001b[43merrors\u001b[49m\u001b[38;5;241;43m=\u001b[39;49m\u001b[43merrors\u001b[49m\u001b[43m,\u001b[49m\n\u001b[1;32m    864\u001b[0m \u001b[43m            \u001b[49m\u001b[43mnewline\u001b[49m\u001b[38;5;241;43m=\u001b[39;49m\u001b[38;5;124;43m\"\u001b[39;49m\u001b[38;5;124;43m\"\u001b[39;49m\u001b[43m,\u001b[49m\n\u001b[1;32m    865\u001b[0m \u001b[43m        \u001b[49m\u001b[43m)\u001b[49m\n\u001b[1;32m    866\u001b[0m     \u001b[38;5;28;01melse\u001b[39;00m:\n\u001b[1;32m    867\u001b[0m         \u001b[38;5;66;03m# Binary mode\u001b[39;00m\n\u001b[1;32m    868\u001b[0m         handle \u001b[38;5;241m=\u001b[39m \u001b[38;5;28mopen\u001b[39m(handle, ioargs\u001b[38;5;241m.\u001b[39mmode)\n",
      "\u001b[0;31mFileNotFoundError\u001b[0m: [Errno 2] No such file or directory: '/Users/HZB/code/vickoru/drumbeatid-2.0/notebooks/../../../drumbeatid/raw_data/groove/info.csv'"
     ]
    }
   ],
   "source": [
    "df = pd.read_csv(os.path.join(loc, 'info.csv'))\n",
    "df.sample(5)"
   ]
  },
  {
   "cell_type": "code",
   "execution_count": 37,
   "id": "91a7556c",
   "metadata": {},
   "outputs": [
    {
     "data": {
      "text/html": [
       "<div>\n",
       "<style scoped>\n",
       "    .dataframe tbody tr th:only-of-type {\n",
       "        vertical-align: middle;\n",
       "    }\n",
       "\n",
       "    .dataframe tbody tr th {\n",
       "        vertical-align: top;\n",
       "    }\n",
       "\n",
       "    .dataframe thead th {\n",
       "        text-align: right;\n",
       "    }\n",
       "</style>\n",
       "<table border=\"1\" class=\"dataframe\">\n",
       "  <thead>\n",
       "    <tr style=\"text-align: right;\">\n",
       "      <th></th>\n",
       "      <th>style</th>\n",
       "      <th>bpm</th>\n",
       "      <th>beat_type</th>\n",
       "      <th>time_signature</th>\n",
       "      <th>audio_filename</th>\n",
       "      <th>duration</th>\n",
       "    </tr>\n",
       "  </thead>\n",
       "  <tbody>\n",
       "    <tr>\n",
       "      <th>0</th>\n",
       "      <td>funk</td>\n",
       "      <td>138</td>\n",
       "      <td>beat</td>\n",
       "      <td>4-4</td>\n",
       "      <td>drummer1/eval_session/1_funk-groove1_138_beat_...</td>\n",
       "      <td>27.872308</td>\n",
       "    </tr>\n",
       "    <tr>\n",
       "      <th>1</th>\n",
       "      <td>soul</td>\n",
       "      <td>102</td>\n",
       "      <td>beat</td>\n",
       "      <td>4-4</td>\n",
       "      <td>drummer1/eval_session/10_soul-groove10_102_bea...</td>\n",
       "      <td>37.691158</td>\n",
       "    </tr>\n",
       "    <tr>\n",
       "      <th>2</th>\n",
       "      <td>funk</td>\n",
       "      <td>105</td>\n",
       "      <td>beat</td>\n",
       "      <td>4-4</td>\n",
       "      <td>drummer1/eval_session/2_funk-groove2_105_beat_...</td>\n",
       "      <td>36.351218</td>\n",
       "    </tr>\n",
       "    <tr>\n",
       "      <th>3</th>\n",
       "      <td>soul</td>\n",
       "      <td>86</td>\n",
       "      <td>beat</td>\n",
       "      <td>4-4</td>\n",
       "      <td>drummer1/eval_session/3_soul-groove3_86_beat_4...</td>\n",
       "      <td>44.716543</td>\n",
       "    </tr>\n",
       "    <tr>\n",
       "      <th>4</th>\n",
       "      <td>soul</td>\n",
       "      <td>80</td>\n",
       "      <td>beat</td>\n",
       "      <td>4-4</td>\n",
       "      <td>drummer1/eval_session/4_soul-groove4_80_beat_4...</td>\n",
       "      <td>47.987500</td>\n",
       "    </tr>\n",
       "  </tbody>\n",
       "</table>\n",
       "</div>"
      ],
      "text/plain": [
       "  style  bpm beat_type time_signature  \\\n",
       "0  funk  138      beat            4-4   \n",
       "1  soul  102      beat            4-4   \n",
       "2  funk  105      beat            4-4   \n",
       "3  soul   86      beat            4-4   \n",
       "4  soul   80      beat            4-4   \n",
       "\n",
       "                                      audio_filename   duration  \n",
       "0  drummer1/eval_session/1_funk-groove1_138_beat_...  27.872308  \n",
       "1  drummer1/eval_session/10_soul-groove10_102_bea...  37.691158  \n",
       "2  drummer1/eval_session/2_funk-groove2_105_beat_...  36.351218  \n",
       "3  drummer1/eval_session/3_soul-groove3_86_beat_4...  44.716543  \n",
       "4  drummer1/eval_session/4_soul-groove4_80_beat_4...  47.987500  "
      ]
     },
     "execution_count": 37,
     "metadata": {},
     "output_type": "execute_result"
    }
   ],
   "source": [
    "df_drummers = processing_drummers(df)\n",
    "df_drummers.head()"
   ]
  },
  {
   "cell_type": "code",
   "execution_count": 38,
   "id": "f6528023",
   "metadata": {},
   "outputs": [
    {
     "name": "stdout",
     "output_type": "stream",
     "text": [
      "<class 'pandas.core.frame.DataFrame'>\n",
      "Int64Index: 444 entries, 0 to 1133\n",
      "Data columns (total 6 columns):\n",
      " #   Column          Non-Null Count  Dtype  \n",
      "---  ------          --------------  -----  \n",
      " 0   style           444 non-null    object \n",
      " 1   bpm             444 non-null    int64  \n",
      " 2   beat_type       444 non-null    object \n",
      " 3   time_signature  444 non-null    object \n",
      " 4   audio_filename  444 non-null    object \n",
      " 5   duration        444 non-null    float64\n",
      "dtypes: float64(1), int64(1), object(4)\n",
      "memory usage: 24.3+ KB\n"
     ]
    }
   ],
   "source": [
    "df_drummers.info()"
   ]
  },
  {
   "cell_type": "code",
   "execution_count": 39,
   "id": "9b3ef99a",
   "metadata": {},
   "outputs": [
    {
     "data": {
      "text/plain": [
       "style             0\n",
       "bpm               0\n",
       "beat_type         0\n",
       "time_signature    0\n",
       "audio_filename    0\n",
       "duration          0\n",
       "dtype: int64"
      ]
     },
     "execution_count": 39,
     "metadata": {},
     "output_type": "execute_result"
    }
   ],
   "source": [
    "df_drummers.isnull().sum()"
   ]
  },
  {
   "cell_type": "code",
   "execution_count": 40,
   "id": "8d7ca868",
   "metadata": {},
   "outputs": [
    {
     "data": {
      "text/html": [
       "<div>\n",
       "<style scoped>\n",
       "    .dataframe tbody tr th:only-of-type {\n",
       "        vertical-align: middle;\n",
       "    }\n",
       "\n",
       "    .dataframe tbody tr th {\n",
       "        vertical-align: top;\n",
       "    }\n",
       "\n",
       "    .dataframe thead th {\n",
       "        text-align: right;\n",
       "    }\n",
       "</style>\n",
       "<table border=\"1\" class=\"dataframe\">\n",
       "  <thead>\n",
       "    <tr style=\"text-align: right;\">\n",
       "      <th></th>\n",
       "      <th>bpm</th>\n",
       "      <th>beat_type</th>\n",
       "      <th>time_signature</th>\n",
       "      <th>audio_filename</th>\n",
       "      <th>duration</th>\n",
       "    </tr>\n",
       "    <tr>\n",
       "      <th>style</th>\n",
       "      <th></th>\n",
       "      <th></th>\n",
       "      <th></th>\n",
       "      <th></th>\n",
       "      <th></th>\n",
       "    </tr>\n",
       "  </thead>\n",
       "  <tbody>\n",
       "    <tr>\n",
       "      <th>afrobeat</th>\n",
       "      <td>4</td>\n",
       "      <td>4</td>\n",
       "      <td>4</td>\n",
       "      <td>4</td>\n",
       "      <td>4</td>\n",
       "    </tr>\n",
       "    <tr>\n",
       "      <th>afrocuban</th>\n",
       "      <td>7</td>\n",
       "      <td>7</td>\n",
       "      <td>7</td>\n",
       "      <td>7</td>\n",
       "      <td>7</td>\n",
       "    </tr>\n",
       "    <tr>\n",
       "      <th>blues</th>\n",
       "      <td>4</td>\n",
       "      <td>4</td>\n",
       "      <td>4</td>\n",
       "      <td>4</td>\n",
       "      <td>4</td>\n",
       "    </tr>\n",
       "    <tr>\n",
       "      <th>country</th>\n",
       "      <td>2</td>\n",
       "      <td>2</td>\n",
       "      <td>2</td>\n",
       "      <td>2</td>\n",
       "      <td>2</td>\n",
       "    </tr>\n",
       "    <tr>\n",
       "      <th>dance</th>\n",
       "      <td>5</td>\n",
       "      <td>5</td>\n",
       "      <td>5</td>\n",
       "      <td>5</td>\n",
       "      <td>5</td>\n",
       "    </tr>\n",
       "    <tr>\n",
       "      <th>funk</th>\n",
       "      <td>45</td>\n",
       "      <td>45</td>\n",
       "      <td>45</td>\n",
       "      <td>45</td>\n",
       "      <td>45</td>\n",
       "    </tr>\n",
       "    <tr>\n",
       "      <th>gospel</th>\n",
       "      <td>1</td>\n",
       "      <td>1</td>\n",
       "      <td>1</td>\n",
       "      <td>1</td>\n",
       "      <td>1</td>\n",
       "    </tr>\n",
       "    <tr>\n",
       "      <th>hiphop</th>\n",
       "      <td>32</td>\n",
       "      <td>32</td>\n",
       "      <td>32</td>\n",
       "      <td>32</td>\n",
       "      <td>32</td>\n",
       "    </tr>\n",
       "    <tr>\n",
       "      <th>jazz</th>\n",
       "      <td>50</td>\n",
       "      <td>50</td>\n",
       "      <td>50</td>\n",
       "      <td>50</td>\n",
       "      <td>50</td>\n",
       "    </tr>\n",
       "    <tr>\n",
       "      <th>latin</th>\n",
       "      <td>42</td>\n",
       "      <td>42</td>\n",
       "      <td>42</td>\n",
       "      <td>42</td>\n",
       "      <td>42</td>\n",
       "    </tr>\n",
       "    <tr>\n",
       "      <th>middleeastern</th>\n",
       "      <td>1</td>\n",
       "      <td>1</td>\n",
       "      <td>1</td>\n",
       "      <td>1</td>\n",
       "      <td>1</td>\n",
       "    </tr>\n",
       "    <tr>\n",
       "      <th>neworleans</th>\n",
       "      <td>11</td>\n",
       "      <td>11</td>\n",
       "      <td>11</td>\n",
       "      <td>11</td>\n",
       "      <td>11</td>\n",
       "    </tr>\n",
       "    <tr>\n",
       "      <th>pop</th>\n",
       "      <td>15</td>\n",
       "      <td>15</td>\n",
       "      <td>15</td>\n",
       "      <td>15</td>\n",
       "      <td>15</td>\n",
       "    </tr>\n",
       "    <tr>\n",
       "      <th>punk</th>\n",
       "      <td>7</td>\n",
       "      <td>7</td>\n",
       "      <td>7</td>\n",
       "      <td>7</td>\n",
       "      <td>7</td>\n",
       "    </tr>\n",
       "    <tr>\n",
       "      <th>reggae</th>\n",
       "      <td>4</td>\n",
       "      <td>4</td>\n",
       "      <td>4</td>\n",
       "      <td>4</td>\n",
       "      <td>4</td>\n",
       "    </tr>\n",
       "    <tr>\n",
       "      <th>rock</th>\n",
       "      <td>186</td>\n",
       "      <td>186</td>\n",
       "      <td>186</td>\n",
       "      <td>186</td>\n",
       "      <td>186</td>\n",
       "    </tr>\n",
       "    <tr>\n",
       "      <th>soul</th>\n",
       "      <td>28</td>\n",
       "      <td>28</td>\n",
       "      <td>28</td>\n",
       "      <td>28</td>\n",
       "      <td>28</td>\n",
       "    </tr>\n",
       "  </tbody>\n",
       "</table>\n",
       "</div>"
      ],
      "text/plain": [
       "               bpm  beat_type  time_signature  audio_filename  duration\n",
       "style                                                                  \n",
       "afrobeat         4          4               4               4         4\n",
       "afrocuban        7          7               7               7         7\n",
       "blues            4          4               4               4         4\n",
       "country          2          2               2               2         2\n",
       "dance            5          5               5               5         5\n",
       "funk            45         45              45              45        45\n",
       "gospel           1          1               1               1         1\n",
       "hiphop          32         32              32              32        32\n",
       "jazz            50         50              50              50        50\n",
       "latin           42         42              42              42        42\n",
       "middleeastern    1          1               1               1         1\n",
       "neworleans      11         11              11              11        11\n",
       "pop             15         15              15              15        15\n",
       "punk             7          7               7               7         7\n",
       "reggae           4          4               4               4         4\n",
       "rock           186        186             186             186       186\n",
       "soul            28         28              28              28        28"
      ]
     },
     "execution_count": 40,
     "metadata": {},
     "output_type": "execute_result"
    }
   ],
   "source": [
    "df_drummers.groupby(by='style').count()"
   ]
  },
  {
   "cell_type": "code",
   "execution_count": 41,
   "id": "1b06d3e8",
   "metadata": {},
   "outputs": [],
   "source": [
    "df_train, df_test = train_test_split(df_drummers, test_size=0.2, random_state=7)"
   ]
  },
  {
   "cell_type": "code",
   "execution_count": 42,
   "id": "6791f8b0",
   "metadata": {
    "scrolled": true
   },
   "outputs": [
    {
     "name": "stdout",
     "output_type": "stream",
     "text": [
      "<class 'pandas.core.frame.DataFrame'>\n",
      "Int64Index: 355 entries, 224 to 585\n",
      "Data columns (total 6 columns):\n",
      " #   Column          Non-Null Count  Dtype  \n",
      "---  ------          --------------  -----  \n",
      " 0   style           355 non-null    object \n",
      " 1   bpm             355 non-null    int64  \n",
      " 2   beat_type       355 non-null    object \n",
      " 3   time_signature  355 non-null    object \n",
      " 4   audio_filename  355 non-null    object \n",
      " 5   duration        355 non-null    float64\n",
      "dtypes: float64(1), int64(1), object(4)\n",
      "memory usage: 19.4+ KB\n"
     ]
    }
   ],
   "source": [
    "df_train.info()"
   ]
  },
  {
   "cell_type": "code",
   "execution_count": 43,
   "id": "23469c0d",
   "metadata": {},
   "outputs": [
    {
     "data": {
      "text/plain": [
       "(355, 6)"
      ]
     },
     "execution_count": 43,
     "metadata": {},
     "output_type": "execute_result"
    }
   ],
   "source": [
    "df_train.shape"
   ]
  },
  {
   "cell_type": "code",
   "execution_count": 18,
   "id": "2e77302d",
   "metadata": {},
   "outputs": [],
   "source": [
    "# df_new = df_train[['audio_filename', 'style']].groupby(by='style').count() "
   ]
  },
  {
   "cell_type": "code",
   "execution_count": 19,
   "id": "05eaab98",
   "metadata": {},
   "outputs": [],
   "source": [
    "# genres_list = list(df_new[df_new['audio_filename'] > 5].index)"
   ]
  },
  {
   "cell_type": "code",
   "execution_count": 20,
   "id": "47bdbf95",
   "metadata": {},
   "outputs": [],
   "source": [
    "# df_train = df_train[df_train['style'].isin(genres_list)]"
   ]
  },
  {
   "cell_type": "code",
   "execution_count": 21,
   "id": "8a2a8c67",
   "metadata": {},
   "outputs": [],
   "source": [
    "# df_train.groupby(by='style').count()"
   ]
  },
  {
   "cell_type": "code",
   "execution_count": 24,
   "id": "6ebe88b6",
   "metadata": {},
   "outputs": [],
   "source": [
    "def augment_data(waveforms_padded, sr, genres, genre_to_augment, desired_n_of_samples, noise_factor=0.0):\n",
    "    '''\n",
    "    required input: waveforms_padded: list of waveforms\n",
    "                    sr: list of corresponding sampling rates\n",
    "                    genres: list of genre\n",
    "                    genre_to_augment: which genre should be augmented?\n",
    "                    desired_n_of_samples: how many samples of the genre should be there after applying the function=\n",
    "                    noise_factor: should noise be added? if yes > 0.0\n",
    "\n",
    "\n",
    "    returns similar to output but just more waveforms, the added ones are generated from the existing ones but\n",
    "        manipulated in terms of changes of time shift, pitch and speed\n",
    "    '''\n",
    "    \n",
    "    aug_waveforms = []\n",
    "    aug_sr = []\n",
    "    aug_genres = []\n",
    "    \n",
    "    for i in range(len(genres)):    \n",
    "        if genres[i] == genre_to_augment:\n",
    "            aug_waveforms.append(waveforms_padded[i])   # VICTOR <- is it right way to call a single waveform??\n",
    "            aug_sr.append(sr[i])\n",
    "            aug_genres.append(genres[i])\n",
    "            \n",
    "    n_existing_samples = len(aug_waveforms)\n",
    "    samples_to_be_created = desired_n_of_samples - n_existing_samples\n",
    "\n",
    "    for i in range(samples_to_be_created):\n",
    "        rand_position = random.randint(0,(n_existing_samples-1))\n",
    "        \n",
    "        ## choosing random waveform (& associated sr & genre)\n",
    "        sr_=aug_sr[rand_position]\n",
    "        genre_=aug_genres[rand_position]\n",
    "        new_waveform = aug_waveforms[rand_position]\n",
    "\n",
    "        #adding noise\n",
    "        #rand_noise = random.uniform(0,0.3)           # added level of noise\n",
    "        #new_waveform = add_noise(new_waveform, rand_noise)\n",
    "\n",
    "        #time shift\n",
    "#         rand_timeshift = random.uniform(0,2)        # amount of timeshift 0 - max (in sec)\n",
    "#         new_waveform = add_timeshift(waveform=new_waveform, sr=sr_, rand_timeshift=rand_timeshift, shift_direction=\"both\")\n",
    "\n",
    "        #changing pitch\n",
    "#         rand_pitch = random.uniform(1,1.5)        # change of pitch\n",
    "#         new_waveform = change_pitch(waveform=new_waveform, sr=sr_, rand_pitch=rand_pitch)\n",
    "\n",
    "        #changing speed\n",
    "#         rand_speed = random.uniform(0.8,1.2)            # change of speed\n",
    "#         new_waveform = change_speed(waveform=new_waveform, sr=sr_, rand_speed=rand_speed)\n",
    "        \n",
    "        #getting waveforms of same length with alternative/better padding function\n",
    "#         new_waveform = librosa.util.fix_length(new_waveform, size=132300)\n",
    "\n",
    "        # adding generated waveforms (and sr and genre to lists)\n",
    "        aug_waveforms.append(new_waveform)\n",
    "        aug_sr.append(sr_)\n",
    "        aug_genres.append(genre_)\n",
    "\n",
    "    #padding waveforms & adding it all together\n",
    "    aug_waveforms = padding_waveforms(aug_waveforms, max_length=132300, axis=0)\n",
    "\n",
    "    return aug_waveforms, aug_sr, aug_genres"
   ]
  },
  {
   "cell_type": "code",
   "execution_count": 25,
   "id": "168df718",
   "metadata": {},
   "outputs": [],
   "source": [
    "def add_noise(waveform, noise_factor):\n",
    "    noise = np.random.randn(len(waveform))\n",
    "    augmented_waveform = waveform + noise_factor * noise\n",
    "    # Cast back to same data type\n",
    "    #augmented_waveform = augmented_waveform.astype(type(data[0]))\n",
    "\n",
    "    return augmented_waveform\n",
    "\n",
    "\n",
    "def add_timeshift(waveform, sr, rand_timeshift, shift_direction=\"both\"):\n",
    "    shift = int(random.uniform(0,sr * rand_timeshift))\n",
    "    if shift_direction == 'right':\n",
    "        rand_timeshift = -rand_timeshift\n",
    "    elif shift_direction == 'both':\n",
    "        direction = np.random.randint(0, 2, 1)\n",
    "        if direction == 1:\n",
    "            rand_timeshift = -rand_timeshift\n",
    "    augmented_data = np.roll(waveform, shift)\n",
    "    # Set to silence for heading/ tailing\n",
    "    if shift > 0:\n",
    "        augmented_data[:shift] = 0\n",
    "    else:\n",
    "        augmented_data[shift:] = 0\n",
    "\n",
    "    return augmented_data\n",
    "\n",
    "\n",
    "def change_pitch(waveform, sr, rand_pitch):\n",
    "    return pitch_shift(waveform, sr, rand_pitch)\n",
    "\n",
    "\n",
    "def change_speed(waveform, sr, rand_speed):\n",
    "    #return pyrubberband.pyrb.time_stretch(y=waveform, sr=sr, rate=rand_speed)\n",
    "    return time_stretch(waveform, rate=rand_speed)"
   ]
  },
  {
   "cell_type": "code",
   "execution_count": 22,
   "id": "1a3c7e5b",
   "metadata": {},
   "outputs": [
    {
     "data": {
      "text/html": [
       "<div>\n",
       "<style scoped>\n",
       "    .dataframe tbody tr th:only-of-type {\n",
       "        vertical-align: middle;\n",
       "    }\n",
       "\n",
       "    .dataframe tbody tr th {\n",
       "        vertical-align: top;\n",
       "    }\n",
       "\n",
       "    .dataframe thead th {\n",
       "        text-align: right;\n",
       "    }\n",
       "</style>\n",
       "<table border=\"1\" class=\"dataframe\">\n",
       "  <thead>\n",
       "    <tr style=\"text-align: right;\">\n",
       "      <th></th>\n",
       "      <th>style</th>\n",
       "      <th>bpm</th>\n",
       "      <th>beat_type</th>\n",
       "      <th>time_signature</th>\n",
       "      <th>audio_filename</th>\n",
       "      <th>duration</th>\n",
       "    </tr>\n",
       "  </thead>\n",
       "  <tbody>\n",
       "    <tr>\n",
       "      <th>224</th>\n",
       "      <td>jazz</td>\n",
       "      <td>125</td>\n",
       "      <td>beat</td>\n",
       "      <td>4-4</td>\n",
       "      <td>drummer1/session1/50_jazz_125_beat_4-4.wav</td>\n",
       "      <td>117.060000</td>\n",
       "    </tr>\n",
       "    <tr>\n",
       "      <th>616</th>\n",
       "      <td>soul</td>\n",
       "      <td>86</td>\n",
       "      <td>beat</td>\n",
       "      <td>4-4</td>\n",
       "      <td>drummer5/eval_session/3_soul-groove3_86_beat_4...</td>\n",
       "      <td>44.623520</td>\n",
       "    </tr>\n",
       "    <tr>\n",
       "      <th>931</th>\n",
       "      <td>soul</td>\n",
       "      <td>98</td>\n",
       "      <td>beat</td>\n",
       "      <td>4-4</td>\n",
       "      <td>drummer7/session3/159_soul_98_beat_4-4.wav</td>\n",
       "      <td>29.353321</td>\n",
       "    </tr>\n",
       "    <tr>\n",
       "      <th>405</th>\n",
       "      <td>punk</td>\n",
       "      <td>128</td>\n",
       "      <td>beat</td>\n",
       "      <td>4-4</td>\n",
       "      <td>drummer1/session2/35_punk_128_beat_4-4.wav</td>\n",
       "      <td>110.610352</td>\n",
       "    </tr>\n",
       "    <tr>\n",
       "      <th>1035</th>\n",
       "      <td>neworleans</td>\n",
       "      <td>82</td>\n",
       "      <td>beat</td>\n",
       "      <td>4-4</td>\n",
       "      <td>drummer8/session1/10_neworleans-funk_82_beat_4...</td>\n",
       "      <td>152.240788</td>\n",
       "    </tr>\n",
       "  </tbody>\n",
       "</table>\n",
       "</div>"
      ],
      "text/plain": [
       "           style  bpm beat_type time_signature  \\\n",
       "224         jazz  125      beat            4-4   \n",
       "616         soul   86      beat            4-4   \n",
       "931         soul   98      beat            4-4   \n",
       "405         punk  128      beat            4-4   \n",
       "1035  neworleans   82      beat            4-4   \n",
       "\n",
       "                                         audio_filename    duration  \n",
       "224          drummer1/session1/50_jazz_125_beat_4-4.wav  117.060000  \n",
       "616   drummer5/eval_session/3_soul-groove3_86_beat_4...   44.623520  \n",
       "931          drummer7/session3/159_soul_98_beat_4-4.wav   29.353321  \n",
       "405          drummer1/session2/35_punk_128_beat_4-4.wav  110.610352  \n",
       "1035  drummer8/session1/10_neworleans-funk_82_beat_4...  152.240788  "
      ]
     },
     "execution_count": 22,
     "metadata": {},
     "output_type": "execute_result"
    }
   ],
   "source": [
    "# slice_ = int(0.5 * df_train.shape[0])\n",
    "# df_slice = df_train.iloc[0:slice_]\n",
    "df_slice = df_train\n",
    "df_slice.head()"
   ]
  },
  {
   "cell_type": "code",
   "execution_count": 23,
   "id": "808e6aab",
   "metadata": {},
   "outputs": [],
   "source": [
    "waveforms, sr = process_audiofiles(loc, df_slice)\n",
    "y = process_genres(df_slice)"
   ]
  },
  {
   "cell_type": "markdown",
   "id": "7300447b",
   "metadata": {},
   "source": [
    "### Splitting audio with librosa"
   ]
  },
  {
   "cell_type": "code",
   "execution_count": null,
   "id": "3222281d",
   "metadata": {},
   "outputs": [],
   "source": [
    "def process_audiofiles(loc, drummers_df, samplingrate=22050, desired_length=6):                  #loc mean location = path\n",
    "\n",
    "    audiofiles = drummers_df['audio_filename'].values\n",
    "    genre = drummers_df['style'].values\n",
    "    length = drummers_dr['duration'].values\n",
    "\n",
    "    waveforms = []\n",
    "    sr = []\n",
    "    genres = []\n",
    "\n",
    "    for i in range(len(audiofiles)):\n",
    "        filename_ = os.path.join(loc, audiofile[i])\n",
    "        length_ = length[i]\n",
    "        genre_ = genre[i]\n",
    "\n",
    "        if length_ < desired_length:\n",
    "            x, sr = reading_audiofile(filename, modus_operandi=\"repeat\",\n",
    "                               desired_length=desired_length, offset=0.0, pause=pause)\n",
    "            waveforms.append(x)\n",
    "            sr.append(length_)\n",
    "            genres.append(genre_)\n",
    "\n",
    "        elif length_ > desired_length:\n",
    "            steps=int(length//desired_length)\n",
    "            for i in range(steps):\n",
    "                x, sr = reading_audiofile(filename, modus_operandi=\"no_change\",\n",
    "                             desired_length=desired_length, offset=i*desired_length)\n",
    "\n",
    "                waveforms.append(x)\n",
    "                sr.append(length_)\n",
    "                genres.append(genre_)\n",
    "\n",
    "            x, sr = reading_audiofile(filename, modus_operandi=\"repeat\",\n",
    "                                 desired_length=desired_length, offset=steps*desired_length, pause=pause)\n",
    "\n",
    "            waveforms.append(x)\n",
    "            sr.append(length_)\n",
    "            genres.append(genre_)\n",
    "\n",
    "    waveforms_padded = padding_waveforms(waveforms, max_length=132300, axis=0)\n",
    "\n",
    "    return waveforms_padded, np.array(sr), genres   # goal same output as victors function "
   ]
  },
  {
   "cell_type": "code",
   "execution_count": null,
   "id": "0620e4c0",
   "metadata": {},
   "outputs": [],
   "source": [
    "def augment_audiofile(filename, desired_length=6, offset=0.0, pause=1):\n",
    "    ''' reading in audiofiles\n",
    "         requires filename (with path)\n",
    "                 modus_operandi:  \"no_change\" -> reading in audiofile in length, no padding\n",
    "                                  \"silence\"-> padding smaller (than desired length) audio files with silence\n",
    "                                  \"repeat\" -> padding smaller audio files with repetitive sound (+ pauses)\n",
    "                 desired_length:  in sec, if prespecified length is requested (default value 30)\n",
    "                                  does not apply if \"no_change\" modus is chosen\n",
    "                 pause:           in sec, if modus \"repeat\" is chosen: if a pause between repetions is asked\n",
    "         returns x (nd-array), sr (sample rate)\n",
    "     '''\n",
    "            # == filling up smaller samples with repeated sounds ==\n",
    "    x , sr = librosa.load(filename, duration= desired_length, offset=0.0)\n",
    "    duration = x.shape[0]/sr        # in seconds\n",
    "    if duration < desired_length:\n",
    "        pause = int(pause * sr)     # seconds (first number) * sampling rate\n",
    "        multiplier = int(desired_length // duration)\n",
    "        single_x=np.append(np.zeros(pause),x)\n",
    "        for i in range(multiplier):\n",
    "            x = np.append(x, single_x)\n",
    "        \n",
    "        x=x[0:desired_length*sr]\n",
    "\n",
    "    return x, sr"
   ]
  },
  {
   "cell_type": "code",
   "execution_count": 27,
   "id": "4435c720",
   "metadata": {},
   "outputs": [
    {
     "data": {
      "text/html": [
       "<div>\n",
       "<style scoped>\n",
       "    .dataframe tbody tr th:only-of-type {\n",
       "        vertical-align: middle;\n",
       "    }\n",
       "\n",
       "    .dataframe tbody tr th {\n",
       "        vertical-align: top;\n",
       "    }\n",
       "\n",
       "    .dataframe thead th {\n",
       "        text-align: right;\n",
       "    }\n",
       "</style>\n",
       "<table border=\"1\" class=\"dataframe\">\n",
       "  <thead>\n",
       "    <tr style=\"text-align: right;\">\n",
       "      <th></th>\n",
       "      <th>style</th>\n",
       "      <th>bpm</th>\n",
       "      <th>beat_type</th>\n",
       "      <th>time_signature</th>\n",
       "      <th>audio_filename</th>\n",
       "      <th>duration</th>\n",
       "    </tr>\n",
       "  </thead>\n",
       "  <tbody>\n",
       "    <tr>\n",
       "      <th>478</th>\n",
       "      <td>afrobeat</td>\n",
       "      <td>94</td>\n",
       "      <td>beat</td>\n",
       "      <td>4-4</td>\n",
       "      <td>drummer1/session3/11_afrobeat_94_beat_4-4.wav</td>\n",
       "      <td>257.856435</td>\n",
       "    </tr>\n",
       "    <tr>\n",
       "      <th>1042</th>\n",
       "      <td>afrobeat</td>\n",
       "      <td>90</td>\n",
       "      <td>beat</td>\n",
       "      <td>4-4</td>\n",
       "      <td>drummer8/session1/17_afrobeat_90_beat_4-4.wav</td>\n",
       "      <td>150.822298</td>\n",
       "    </tr>\n",
       "    <tr>\n",
       "      <th>1041</th>\n",
       "      <td>afrobeat</td>\n",
       "      <td>90</td>\n",
       "      <td>beat</td>\n",
       "      <td>4-4</td>\n",
       "      <td>drummer8/session1/16_afrobeat_90_beat_4-4.wav</td>\n",
       "      <td>191.965374</td>\n",
       "    </tr>\n",
       "  </tbody>\n",
       "</table>\n",
       "</div>"
      ],
      "text/plain": [
       "         style  bpm beat_type time_signature  \\\n",
       "478   afrobeat   94      beat            4-4   \n",
       "1042  afrobeat   90      beat            4-4   \n",
       "1041  afrobeat   90      beat            4-4   \n",
       "\n",
       "                                     audio_filename    duration  \n",
       "478   drummer1/session3/11_afrobeat_94_beat_4-4.wav  257.856435  \n",
       "1042  drummer8/session1/17_afrobeat_90_beat_4-4.wav  150.822298  \n",
       "1041  drummer8/session1/16_afrobeat_90_beat_4-4.wav  191.965374  "
      ]
     },
     "execution_count": 27,
     "metadata": {},
     "output_type": "execute_result"
    }
   ],
   "source": [
    "style = 'afrobeat'\n",
    "df_train[df_train['style'] == style]"
   ]
  },
  {
   "cell_type": "code",
   "execution_count": 44,
   "id": "4d317ac4",
   "metadata": {},
   "outputs": [
    {
     "data": {
      "text/plain": [
       "'/Users/HZB/code/vickoru/data-challenges/08-Projects/notebooks/../../../drumbeatid/raw_data/groove/drummer1/session3/11_afrobeat_94_beat_4-4.wav'"
      ]
     },
     "execution_count": 44,
     "metadata": {},
     "output_type": "execute_result"
    }
   ],
   "source": [
    "filename_ = df_train.loc[478, 'audio_filename']\n",
    "duration = df_train.loc[478, 'duration']\n",
    "loc_ = os.path.join(loc, filename_)\n",
    "loc_"
   ]
  },
  {
   "cell_type": "code",
   "execution_count": 45,
   "id": "a4cf855d",
   "metadata": {},
   "outputs": [
    {
     "data": {
      "text/plain": [
       "(132300,)"
      ]
     },
     "execution_count": 45,
     "metadata": {},
     "output_type": "execute_result"
    }
   ],
   "source": [
    "reading_audiofile(loc_, 'no_change')[0].shape"
   ]
  },
  {
   "cell_type": "code",
   "execution_count": 166,
   "id": "a1e3cddb",
   "metadata": {},
   "outputs": [],
   "source": [
    "y, sr = librosa.load(loc_)"
   ]
  },
  {
   "cell_type": "code",
   "execution_count": 167,
   "id": "00c3b0d6",
   "metadata": {},
   "outputs": [
    {
     "data": {
      "text/plain": [
       "(5686085,)"
      ]
     },
     "execution_count": 167,
     "metadata": {},
     "output_type": "execute_result"
    }
   ],
   "source": [
    "y.shape"
   ]
  },
  {
   "cell_type": "code",
   "execution_count": 168,
   "id": "6f456163",
   "metadata": {},
   "outputs": [
    {
     "data": {
      "text/plain": [
       "5685734"
      ]
     },
     "execution_count": 168,
     "metadata": {},
     "output_type": "execute_result"
    }
   ],
   "source": [
    "int(duration * sr)"
   ]
  },
  {
   "cell_type": "code",
   "execution_count": 169,
   "id": "95f34d4c",
   "metadata": {},
   "outputs": [
    {
     "data": {
      "text/plain": [
       "<matplotlib.legend.Legend at 0x15f565fd0>"
      ]
     },
     "execution_count": 169,
     "metadata": {},
     "output_type": "execute_result"
    },
    {
     "data": {
      "image/png": "[encoded data removed]",
      "text/plain": [
       "<Figure size 1008x360 with 1 Axes>"
      ]
     },
     "metadata": {
      "needs_background": "light"
     },
     "output_type": "display_data"
    }
   ],
   "source": [
    "plt.figure(figsize=(14, 5))\n",
    "librosa.display.waveshow(y, sr=sr, label=filename_)\n",
    "plt.legend()"
   ]
  },
  {
   "cell_type": "code",
   "execution_count": 170,
   "id": "4ff13b29",
   "metadata": {},
   "outputs": [
    {
     "name": "stdout",
     "output_type": "stream",
     "text": [
      "(1025, 5553)\n"
     ]
    },
    {
     "data": {
      "text/plain": [
       "80.0"
      ]
     },
     "execution_count": 170,
     "metadata": {},
     "output_type": "execute_result"
    }
   ],
   "source": [
    "nfft = 2048\n",
    "S = librosa.stft(y, n_fft=nfft, hop_length=nfft//2)\n",
    "print(S.shape)\n",
    "D = librosa.amplitude_to_db(np.abs(S), ref=np.max)\n",
    "np.max(abs(D))"
   ]
  },
  {
   "cell_type": "code",
   "execution_count": 171,
   "id": "14609e17",
   "metadata": {},
   "outputs": [
    {
     "data": {
      "text/plain": [
       "array([[  44544,   88576],\n",
       "       [  89600,  116224],\n",
       "       [ 117248,  145408],\n",
       "       [ 145920,  173056],\n",
       "       [ 174592,  202240],\n",
       "       [ 203264,  258560],\n",
       "       [ 259072,  455168],\n",
       "       [ 456192,  596480],\n",
       "       [ 596992, 5686085]])"
      ]
     },
     "execution_count": 171,
     "metadata": {},
     "output_type": "execute_result"
    }
   ],
   "source": [
    "librosa.effects.split(y)"
   ]
  },
  {
   "cell_type": "code",
   "execution_count": 172,
   "id": "cb852cee",
   "metadata": {},
   "outputs": [
    {
     "data": {
      "text/plain": [
       "<librosa.display.AdaptiveWaveplot at 0x1603023d0>"
      ]
     },
     "execution_count": 172,
     "metadata": {},
     "output_type": "execute_result"
    },
    {
     "data": {
      "image/png": "[encoded data removed]",
      "text/plain": [
       "<Figure size 1008x360 with 1 Axes>"
      ]
     },
     "metadata": {
      "needs_background": "light"
     },
     "output_type": "display_data"
    }
   ],
   "source": [
    "plt.figure(figsize=(14, 5))\n",
    "librosa.display.waveshow(y[44544:88576], sr=sr, label=filename_)"
   ]
  },
  {
   "cell_type": "code",
   "execution_count": 173,
   "id": "d62cf10e",
   "metadata": {},
   "outputs": [
    {
     "name": "stdout",
     "output_type": "stream",
     "text": [
      "257\n",
      "257.856435\n",
      "42\n",
      "252\n"
     ]
    }
   ],
   "source": [
    "tot = int(y.shape[0]/sr)\n",
    "print(tot)\n",
    "print(duration)\n",
    "interval = int(tot/6)\n",
    "print(interval)\n",
    "print(interval*6)"
   ]
  },
  {
   "cell_type": "code",
   "execution_count": 54,
   "id": "eaf72450",
   "metadata": {},
   "outputs": [
    {
     "name": "stdout",
     "output_type": "stream",
     "text": [
      "42 83\n",
      "84 125\n",
      "126 167\n",
      "168 209\n",
      "210 251\n",
      "252 293\n"
     ]
    }
   ],
   "source": [
    "for idx in range(1, 7):\n",
    "    print(idx*interval, (idx+1)*interval - 1)"
   ]
  },
  {
   "cell_type": "code",
   "execution_count": 57,
   "id": "342dd764",
   "metadata": {},
   "outputs": [
    {
     "name": "stdout",
     "output_type": "stream",
     "text": [
      "926100 1830150\n",
      "1852200 2756250\n",
      "2778300 3682350\n",
      "3704400 4608450\n",
      "4630500 5534550\n"
     ]
    }
   ],
   "source": [
    "for idx in range(1, 6):\n",
    "    print(idx*interval*sr, sr*((idx+1)*interval - 1))"
   ]
  },
  {
   "cell_type": "code",
   "execution_count": 58,
   "id": "5cfc7f73",
   "metadata": {},
   "outputs": [],
   "source": [
    "aaa = np.zeros((5,2))"
   ]
  },
  {
   "cell_type": "code",
   "execution_count": 59,
   "id": "c7beede8",
   "metadata": {},
   "outputs": [],
   "source": [
    "aaa[0] = [5,6]"
   ]
  },
  {
   "cell_type": "code",
   "execution_count": 60,
   "id": "863edfb2",
   "metadata": {},
   "outputs": [
    {
     "data": {
      "text/plain": [
       "array([[5., 6.],\n",
       "       [0., 0.],\n",
       "       [0., 0.],\n",
       "       [0., 0.],\n",
       "       [0., 0.]])"
      ]
     },
     "execution_count": 60,
     "metadata": {},
     "output_type": "execute_result"
    }
   ],
   "source": [
    "aaa"
   ]
  },
  {
   "cell_type": "code",
   "execution_count": 90,
   "id": "fcdb3077",
   "metadata": {},
   "outputs": [],
   "source": [
    "def create_samples2(waveform, sr, duration=6):\n",
    "    '''\n",
    "    Split waveform into several subsamples of duration of 6.0 seconds approximately\n",
    "    '''\n",
    "    total = int(waveform.shape[0]/sr)\n",
    "    interval = int(total/duration)\n",
    "    indexes = np.zeros((duration - 1, 2))\n",
    "    for idx in range(1, int(duration)):\n",
    "        indexes[idx-1] = [int(idx*interval*sr), int(sr*((idx+1)*interval - 1))]\n",
    "    \n",
    "    return indexes    "
   ]
  },
  {
   "cell_type": "code",
   "execution_count": 292,
   "id": "f42e0c11",
   "metadata": {},
   "outputs": [],
   "source": [
    "def create_samples(waveform, sr, duration=6):\n",
    "    '''\n",
    "    Split waveform into several subsamples of duration of 6.0 seconds approximately\n",
    "    '''\n",
    "    total_intervals = int(waveform.shape[0]/sr)\n",
    "    interval = int(total_intervals/duration) + 1\n",
    "    samples = np.array_split(waveform, interval)    \n",
    "        \n",
    "    return np.array(samples)\n",
    "\n",
    "def process_created_samples(waveform_array, samples, samples_sr, samples_genre, maxlength=132300):\n",
    "    waveforms = waveform_array[0]\n",
    "    samplingrates = waveform_array[1]\n",
    "    genres = waveform_array[2]\n",
    "    for idx, waveform_idx in enumerate(samples):\n",
    "        waveform_ = librosa.util.fix_length(waveform_idx, size=maxlength)\n",
    "        waveforms = np.vstack((waveforms, waveform_))\n",
    "        samplingrates = np.append(samplingrates, samples_sr)\n",
    "        genres.append(samples_genre)\n",
    "    \n",
    "    return waveforms, samplingrates, genres\n",
    "    \n",
    "    "
   ]
  },
  {
   "cell_type": "code",
   "execution_count": 282,
   "id": "f2ff547e",
   "metadata": {},
   "outputs": [
    {
     "data": {
      "text/plain": [
       "'/Users/HZB/code/vickoru/data-challenges/08-Projects/notebooks/../../../drumbeatid/raw_data/groove/drummer1/session3/11_afrobeat_94_beat_4-4.wav'"
      ]
     },
     "execution_count": 282,
     "metadata": {},
     "output_type": "execute_result"
    }
   ],
   "source": [
    "filename_ = df_train.loc[478, 'audio_filename']\n",
    "duration = df_train.loc[478, 'duration']\n",
    "genre = df_train.loc[478, 'style']\n",
    "loc_ = os.path.join(loc, filename_)\n",
    "loc_"
   ]
  },
  {
   "cell_type": "code",
   "execution_count": 283,
   "id": "8a2c998c",
   "metadata": {},
   "outputs": [],
   "source": [
    "y, sr = librosa.load(loc_)"
   ]
  },
  {
   "cell_type": "code",
   "execution_count": 284,
   "id": "cb2c3547",
   "metadata": {},
   "outputs": [
    {
     "name": "stderr",
     "output_type": "stream",
     "text": [
      "/var/folders/jw/d43bpk916bz864ddr7_d7nqh0000gp/T/ipykernel_87035/2101366394.py:9: VisibleDeprecationWarning: Creating an ndarray from ragged nested sequences (which is a list-or-tuple of lists-or-tuples-or ndarrays with different lengths or shapes) is deprecated. If you meant to do this, you must specify 'dtype=object' when creating the ndarray\n",
      "  return np.array(samples)\n"
     ]
    }
   ],
   "source": [
    "samples = create_samples(y, sr)"
   ]
  },
  {
   "cell_type": "code",
   "execution_count": 285,
   "id": "eb82a19a",
   "metadata": {},
   "outputs": [
    {
     "data": {
      "text/plain": [
       "43"
      ]
     },
     "execution_count": 285,
     "metadata": {},
     "output_type": "execute_result"
    }
   ],
   "source": [
    "len(samples)"
   ]
  },
  {
   "cell_type": "code",
   "execution_count": 298,
   "id": "8fe662b1",
   "metadata": {},
   "outputs": [],
   "source": [
    "waveforms = []\n",
    "sr_s = []\n",
    "genres_s = []\n",
    "maxlength=132300\n",
    "waveforms.append(librosa.util.fix_length(samples[0], size=maxlength))\n",
    "waveforms.append(librosa.util.fix_length(samples[1], size=maxlength))\n",
    "sr_s.append(sr)\n",
    "sr_s.append(sr)\n",
    "genres_s.append('afro')\n",
    "genres_s.append('afro')\n",
    "waveforms = np.array(waveforms)\n",
    "sr_s = np.array(sr_s)"
   ]
  },
  {
   "cell_type": "code",
   "execution_count": null,
   "id": "68e5d6cd",
   "metadata": {},
   "outputs": [],
   "source": [
    "process_created_samples(waveforms, )"
   ]
  },
  {
   "cell_type": "code",
   "execution_count": 267,
   "id": "bc31afd8",
   "metadata": {},
   "outputs": [],
   "source": [
    "sssr = []\n",
    "maxlength=132300\n",
    "waveform_ = librosa.util.fix_length(samples[0], size=maxlength)"
   ]
  },
  {
   "cell_type": "code",
   "execution_count": 268,
   "id": "8b8d8b70",
   "metadata": {},
   "outputs": [
    {
     "data": {
      "text/plain": [
       "(132300,)"
      ]
     },
     "execution_count": 268,
     "metadata": {},
     "output_type": "execute_result"
    }
   ],
   "source": [
    "waveform_.shape"
   ]
  },
  {
   "cell_type": "code",
   "execution_count": 269,
   "id": "0dcc35b6",
   "metadata": {},
   "outputs": [
    {
     "data": {
      "text/plain": [
       "(2, 132300)"
      ]
     },
     "execution_count": 269,
     "metadata": {},
     "output_type": "execute_result"
    }
   ],
   "source": [
    "waveforms.shape"
   ]
  },
  {
   "cell_type": "code",
   "execution_count": 270,
   "id": "c3a7bd13",
   "metadata": {},
   "outputs": [
    {
     "data": {
      "text/plain": [
       "array([[ 0.        ,  0.        ,  0.        , ...,  0.        ,\n",
       "         0.        ,  0.        ],\n",
       "       [-0.00093308, -0.00091162, -0.00084308, ...,  0.        ,\n",
       "         0.        ,  0.        ],\n",
       "       [ 0.        ,  0.        ,  0.        , ...,  0.        ,\n",
       "         0.        ,  0.        ]], dtype=float32)"
      ]
     },
     "execution_count": 270,
     "metadata": {},
     "output_type": "execute_result"
    }
   ],
   "source": [
    "np.vstack((waveforms, waveform_))"
   ]
  },
  {
   "cell_type": "code",
   "execution_count": 277,
   "id": "0b679123",
   "metadata": {},
   "outputs": [
    {
     "data": {
      "text/plain": [
       "(2,)"
      ]
     },
     "execution_count": 277,
     "metadata": {},
     "output_type": "execute_result"
    }
   ],
   "source": [
    "sr_s.shape"
   ]
  },
  {
   "cell_type": "code",
   "execution_count": 274,
   "id": "1d97793c",
   "metadata": {},
   "outputs": [
    {
     "data": {
      "text/plain": [
       "22050"
      ]
     },
     "execution_count": 274,
     "metadata": {},
     "output_type": "execute_result"
    }
   ],
   "source": [
    "sr"
   ]
  },
  {
   "cell_type": "code",
   "execution_count": 280,
   "id": "57c4c6ea",
   "metadata": {},
   "outputs": [
    {
     "data": {
      "text/plain": [
       "array([22050, 22050, 22050])"
      ]
     },
     "execution_count": 280,
     "metadata": {},
     "output_type": "execute_result"
    }
   ],
   "source": [
    "np.append(sr_s, sr)"
   ]
  },
  {
   "cell_type": "code",
   "execution_count": 293,
   "id": "d97679ce",
   "metadata": {},
   "outputs": [],
   "source": [
    "new_y, new_sr, new_genres = process_created_samples([waveforms, sr_s, genres], samples, sr, genre)"
   ]
  },
  {
   "cell_type": "code",
   "execution_count": 294,
   "id": "60d751e9",
   "metadata": {},
   "outputs": [
    {
     "data": {
      "text/plain": [
       "(45, 132300)"
      ]
     },
     "execution_count": 294,
     "metadata": {},
     "output_type": "execute_result"
    }
   ],
   "source": [
    "new_y.shape"
   ]
  },
  {
   "cell_type": "code",
   "execution_count": 295,
   "id": "77c8f223",
   "metadata": {},
   "outputs": [
    {
     "data": {
      "text/plain": [
       "(45,)"
      ]
     },
     "execution_count": 295,
     "metadata": {},
     "output_type": "execute_result"
    }
   ],
   "source": [
    "new_sr.shape"
   ]
  },
  {
   "cell_type": "code",
   "execution_count": 297,
   "id": "5189e95d",
   "metadata": {},
   "outputs": [
    {
     "data": {
      "text/plain": [
       "174"
      ]
     },
     "execution_count": 297,
     "metadata": {},
     "output_type": "execute_result"
    }
   ],
   "source": [
    "len(new_genres)"
   ]
  },
  {
   "cell_type": "code",
   "execution_count": null,
   "id": "f27c3aa7",
   "metadata": {},
   "outputs": [],
   "source": []
  },
  {
   "cell_type": "code",
   "execution_count": 231,
   "id": "1ca55efc",
   "metadata": {},
   "outputs": [],
   "source": [
    "y_duration, sr_duration = librosa.load(loc_, duration=6)"
   ]
  },
  {
   "cell_type": "code",
   "execution_count": 232,
   "id": "4c7f515d",
   "metadata": {},
   "outputs": [],
   "source": [
    "    duration = 6\n",
    "    total = int(y.shape[0]/sr)\n",
    "    interval = int(total/duration)\n",
    "    indexes = np.zeros((duration - 1, 2))\n"
   ]
  },
  {
   "cell_type": "code",
   "execution_count": 248,
   "id": "bb44fbdb",
   "metadata": {},
   "outputs": [],
   "source": [
    "maxlength = y_duration.shape[0]"
   ]
  },
  {
   "cell_type": "code",
   "execution_count": null,
   "id": "ece373cc",
   "metadata": {},
   "outputs": [],
   "source": []
  },
  {
   "cell_type": "code",
   "execution_count": 234,
   "id": "a0bb0082",
   "metadata": {},
   "outputs": [
    {
     "data": {
      "text/plain": [
       "42"
      ]
     },
     "execution_count": 234,
     "metadata": {},
     "output_type": "execute_result"
    }
   ],
   "source": [
    "interval"
   ]
  },
  {
   "cell_type": "code",
   "execution_count": 235,
   "id": "a257495e",
   "metadata": {},
   "outputs": [],
   "source": [
    "kk = np.array_split(y, interval + 1)"
   ]
  },
  {
   "cell_type": "code",
   "execution_count": 236,
   "id": "90310823",
   "metadata": {},
   "outputs": [
    {
     "data": {
      "text/plain": [
       "43"
      ]
     },
     "execution_count": 236,
     "metadata": {},
     "output_type": "execute_result"
    }
   ],
   "source": [
    "len(kk)"
   ]
  },
  {
   "cell_type": "code",
   "execution_count": 237,
   "id": "a3da19b0",
   "metadata": {},
   "outputs": [
    {
     "data": {
      "text/plain": [
       "(132300,)"
      ]
     },
     "execution_count": 237,
     "metadata": {},
     "output_type": "execute_result"
    }
   ],
   "source": [
    "librosa.util.fix_length(kk[0], size=maxlength).shape"
   ]
  },
  {
   "cell_type": "code",
   "execution_count": 238,
   "id": "9b07d007",
   "metadata": {},
   "outputs": [
    {
     "data": {
      "text/plain": [
       "(132235,)"
      ]
     },
     "execution_count": 238,
     "metadata": {},
     "output_type": "execute_result"
    }
   ],
   "source": [
    "kk[0].shape"
   ]
  },
  {
   "cell_type": "code",
   "execution_count": 239,
   "id": "c714f84c",
   "metadata": {},
   "outputs": [
    {
     "data": {
      "text/plain": [
       "42"
      ]
     },
     "execution_count": 239,
     "metadata": {},
     "output_type": "execute_result"
    }
   ],
   "source": [
    "total = int(y.shape[0]/y_duration.shape[0])\n",
    "total"
   ]
  },
  {
   "cell_type": "code",
   "execution_count": 240,
   "id": "faca1a53",
   "metadata": {},
   "outputs": [],
   "source": [
    "kk = np.array_split(y, total + 1)"
   ]
  },
  {
   "cell_type": "code",
   "execution_count": 241,
   "id": "db7a8b1f",
   "metadata": {},
   "outputs": [
    {
     "data": {
      "text/plain": [
       "43"
      ]
     },
     "execution_count": 241,
     "metadata": {},
     "output_type": "execute_result"
    }
   ],
   "source": [
    "len(kk)"
   ]
  },
  {
   "cell_type": "code",
   "execution_count": 242,
   "id": "b4c65c3a",
   "metadata": {},
   "outputs": [
    {
     "data": {
      "text/plain": [
       "(132234,)"
      ]
     },
     "execution_count": 242,
     "metadata": {},
     "output_type": "execute_result"
    }
   ],
   "source": [
    "kk[-1].shape"
   ]
  },
  {
   "cell_type": "code",
   "execution_count": 243,
   "id": "f165aa3e",
   "metadata": {},
   "outputs": [],
   "source": [
    "y, sr = librosa.load(loc_, duration=6)"
   ]
  },
  {
   "cell_type": "code",
   "execution_count": 180,
   "id": "b60d615b",
   "metadata": {},
   "outputs": [
    {
     "data": {
      "text/plain": [
       "(132300,)"
      ]
     },
     "execution_count": 180,
     "metadata": {},
     "output_type": "execute_result"
    }
   ],
   "source": [
    "y.shape"
   ]
  },
  {
   "cell_type": "code",
   "execution_count": 203,
   "id": "0a825f0c",
   "metadata": {},
   "outputs": [
    {
     "name": "stdout",
     "output_type": "stream",
     "text": [
      "(8,)\n"
     ]
    },
    {
     "name": "stderr",
     "output_type": "stream",
     "text": [
      "/var/folders/jw/d43bpk916bz864ddr7_d7nqh0000gp/T/ipykernel_87035/82760675.py:9: VisibleDeprecationWarning: Creating an ndarray from ragged nested sequences (which is a list-or-tuple of lists-or-tuples-or ndarrays with different lengths or shapes) is deprecated. If you meant to do this, you must specify 'dtype=object' when creating the ndarray\n",
      "  return np.array(samples)\n"
     ]
    }
   ],
   "source": [
    "samples = create_samples(y, sr)\n",
    "print(samples.shape)"
   ]
  },
  {
   "cell_type": "code",
   "execution_count": 204,
   "id": "7b22aba2",
   "metadata": {},
   "outputs": [
    {
     "data": {
      "text/plain": [
       "(710761,)"
      ]
     },
     "execution_count": 204,
     "metadata": {},
     "output_type": "execute_result"
    }
   ],
   "source": [
    "samples[0].shape"
   ]
  },
  {
   "cell_type": "code",
   "execution_count": 255,
   "id": "311ab095",
   "metadata": {},
   "outputs": [],
   "source": [
    "waveforms = []\n",
    "sr_s = []\n",
    "genres = []\n",
    "waveforms.append(kk[0])\n",
    "waveforms.append(kk[1])\n",
    "sr_s.append(sr)\n",
    "sr_s.append(sr)\n",
    "genres.append('afro')\n",
    "genres.append('afro')\n",
    "waveforms = np.array(waveforms)\n",
    "sr_s = np.array(sr_s)"
   ]
  },
  {
   "cell_type": "code",
   "execution_count": 256,
   "id": "d91e68eb",
   "metadata": {},
   "outputs": [
    {
     "data": {
      "text/plain": [
       "(2, 132235)"
      ]
     },
     "execution_count": 256,
     "metadata": {},
     "output_type": "execute_result"
    }
   ],
   "source": [
    "waveforms.shape"
   ]
  },
  {
   "cell_type": "code",
   "execution_count": 257,
   "id": "aa69c37d",
   "metadata": {},
   "outputs": [
    {
     "data": {
      "text/plain": [
       "array([22050, 22050])"
      ]
     },
     "execution_count": 257,
     "metadata": {},
     "output_type": "execute_result"
    }
   ],
   "source": [
    "sr_s"
   ]
  },
  {
   "cell_type": "code",
   "execution_count": 160,
   "id": "9aed2939",
   "metadata": {},
   "outputs": [
    {
     "data": {
      "text/plain": [
       "(3, 135383)"
      ]
     },
     "execution_count": 160,
     "metadata": {},
     "output_type": "execute_result"
    }
   ],
   "source": [
    "np.vstack((waveforms, samples[0])).shape"
   ]
  },
  {
   "cell_type": "code",
   "execution_count": 161,
   "id": "fb21eeb4",
   "metadata": {},
   "outputs": [
    {
     "data": {
      "text/plain": [
       "(42,)"
      ]
     },
     "execution_count": 161,
     "metadata": {},
     "output_type": "execute_result"
    }
   ],
   "source": [
    "samples.shape"
   ]
  },
  {
   "cell_type": "code",
   "execution_count": 162,
   "id": "4b0afa23",
   "metadata": {},
   "outputs": [
    {
     "name": "stdout",
     "output_type": "stream",
     "text": [
      "(3, 135383)\n",
      "(4, 135383)\n",
      "(5, 135383)\n",
      "(6, 135383)\n",
      "(7, 135383)\n",
      "(8, 135383)\n",
      "(9, 135383)\n",
      "(10, 135383)\n",
      "(11, 135383)\n",
      "(12, 135383)\n"
     ]
    }
   ],
   "source": [
    "for i, val in enumerate(samples[0:10]):\n",
    "    waveforms = np.vstack((waveforms, val))\n",
    "    print(waveforms.shape)\n"
   ]
  },
  {
   "cell_type": "code",
   "execution_count": 122,
   "id": "d3a32259",
   "metadata": {},
   "outputs": [
    {
     "ename": "AttributeError",
     "evalue": "'list' object has no attribute 'shape'",
     "output_type": "error",
     "traceback": [
      "\u001b[0;31m---------------------------------------------------------------------------\u001b[0m",
      "\u001b[0;31mAttributeError\u001b[0m                            Traceback (most recent call last)",
      "\u001b[0;32m/var/folders/jw/d43bpk916bz864ddr7_d7nqh0000gp/T/ipykernel_87035/2012084028.py\u001b[0m in \u001b[0;36m<module>\u001b[0;34m\u001b[0m\n\u001b[0;32m----> 1\u001b[0;31m \u001b[0msamples\u001b[0m\u001b[0;34m.\u001b[0m\u001b[0mshape\u001b[0m\u001b[0;34m\u001b[0m\u001b[0;34m\u001b[0m\u001b[0m\n\u001b[0m",
      "\u001b[0;31mAttributeError\u001b[0m: 'list' object has no attribute 'shape'"
     ]
    }
   ],
   "source": [
    "samples.shape"
   ]
  },
  {
   "cell_type": "code",
   "execution_count": null,
   "id": "801fc459",
   "metadata": {},
   "outputs": [],
   "source": []
  },
  {
   "cell_type": "code",
   "execution_count": null,
   "id": "53911056",
   "metadata": {},
   "outputs": [],
   "source": []
  },
  {
   "cell_type": "code",
   "execution_count": 62,
   "id": "c227d8dd",
   "metadata": {},
   "outputs": [],
   "source": [
    "aaa = create_samples(y, sr)"
   ]
  },
  {
   "cell_type": "code",
   "execution_count": 63,
   "id": "5cfed00e",
   "metadata": {},
   "outputs": [
    {
     "data": {
      "text/plain": [
       "array([[ 926100., 1830150.],\n",
       "       [1852200., 2756250.],\n",
       "       [2778300., 3682350.],\n",
       "       [3704400., 4608450.],\n",
       "       [4630500., 5534550.]])"
      ]
     },
     "execution_count": 63,
     "metadata": {},
     "output_type": "execute_result"
    }
   ],
   "source": [
    "aaa"
   ]
  },
  {
   "cell_type": "code",
   "execution_count": 77,
   "id": "3676fbbc",
   "metadata": {},
   "outputs": [],
   "source": [
    "    waveform = y\n",
    "    duration=6\n",
    "    total = int(waveform.shape[0]/sr)\n",
    "    interval = int(total/duration)\n",
    "    indexes = np.zeros((duration - 1, 2))"
   ]
  },
  {
   "cell_type": "code",
   "execution_count": 78,
   "id": "f1f1d872",
   "metadata": {},
   "outputs": [
    {
     "name": "stdout",
     "output_type": "stream",
     "text": [
      "42\n"
     ]
    }
   ],
   "source": [
    "print(interval)"
   ]
  },
  {
   "cell_type": "code",
   "execution_count": null,
   "id": "3ba366ee",
   "metadata": {},
   "outputs": [],
   "source": [
    "interval* "
   ]
  },
  {
   "cell_type": "code",
   "execution_count": 87,
   "id": "91e32602",
   "metadata": {},
   "outputs": [],
   "source": [
    "kk = np.array_split(y, interval+1)"
   ]
  },
  {
   "cell_type": "code",
   "execution_count": 88,
   "id": "228e5279",
   "metadata": {},
   "outputs": [],
   "source": [
    "length = []\n",
    "for val in kk:\n",
    "    length.append([val.shape])"
   ]
  },
  {
   "cell_type": "code",
   "execution_count": 89,
   "id": "630b0596",
   "metadata": {},
   "outputs": [
    {
     "data": {
      "text/plain": [
       "[[(132235,)],\n",
       " [(132235,)],\n",
       " [(132235,)],\n",
       " [(132235,)],\n",
       " [(132235,)],\n",
       " [(132235,)],\n",
       " [(132235,)],\n",
       " [(132235,)],\n",
       " [(132235,)],\n",
       " [(132235,)],\n",
       " [(132235,)],\n",
       " [(132235,)],\n",
       " [(132235,)],\n",
       " [(132235,)],\n",
       " [(132235,)],\n",
       " [(132235,)],\n",
       " [(132235,)],\n",
       " [(132235,)],\n",
       " [(132235,)],\n",
       " [(132235,)],\n",
       " [(132235,)],\n",
       " [(132235,)],\n",
       " [(132235,)],\n",
       " [(132234,)],\n",
       " [(132234,)],\n",
       " [(132234,)],\n",
       " [(132234,)],\n",
       " [(132234,)],\n",
       " [(132234,)],\n",
       " [(132234,)],\n",
       " [(132234,)],\n",
       " [(132234,)],\n",
       " [(132234,)],\n",
       " [(132234,)],\n",
       " [(132234,)],\n",
       " [(132234,)],\n",
       " [(132234,)],\n",
       " [(132234,)],\n",
       " [(132234,)],\n",
       " [(132234,)],\n",
       " [(132234,)],\n",
       " [(132234,)],\n",
       " [(132234,)]]"
      ]
     },
     "execution_count": 89,
     "metadata": {},
     "output_type": "execute_result"
    }
   ],
   "source": [
    "length"
   ]
  },
  {
   "cell_type": "code",
   "execution_count": 75,
   "id": "6f4c73b4",
   "metadata": {},
   "outputs": [
    {
     "data": {
      "image/png": "[encoded data removed]",
      "text/plain": [
       "<Figure size 1008x360 with 1 Axes>"
      ]
     },
     "metadata": {
      "needs_background": "light"
     },
     "output_type": "display_data"
    },
    {
     "data": {
      "image/png": "[encoded data removed]",
      "text/plain": [
       "<Figure size 1008x360 with 1 Axes>"
      ]
     },
     "metadata": {
      "needs_background": "light"
     },
     "output_type": "display_data"
    },
    {
     "data": {
      "image/png": "[encoded data removed]",
      "text/plain": [
       "<Figure size 1008x360 with 1 Axes>"
      ]
     },
     "metadata": {
      "needs_background": "light"
     },
     "output_type": "display_data"
    }
   ],
   "source": [
    "for value in kk:\n",
    "    plt.figure(figsize=(14, 5))\n",
    "    librosa.display.waveshow(value, sr=sr)\n",
    "    plt.show()"
   ]
  },
  {
   "cell_type": "code",
   "execution_count": null,
   "id": "56569fbc",
   "metadata": {},
   "outputs": [],
   "source": []
  },
  {
   "cell_type": "code",
   "execution_count": null,
   "id": "5ddd760b",
   "metadata": {},
   "outputs": [],
   "source": []
  }
 ],
 "metadata": {
  "kernelspec": {
   "display_name": "Python 3 (ipykernel)",
   "language": "python",
   "name": "python3"
  },
  "language_info": {
   "codemirror_mode": {
    "name": "ipython",
    "version": 3
   },
   "file_extension": ".py",
   "mimetype": "text/x-python",
   "name": "python",
   "nbconvert_exporter": "python",
   "pygments_lexer": "ipython3",
   "version": "3.8.12"
  },
  "toc": {
   "base_numbering": 1,
   "nav_menu": {},
   "number_sections": true,
   "sideBar": true,
   "skip_h1_title": false,
   "title_cell": "Table of Contents",
   "title_sidebar": "Contents",
   "toc_cell": false,
   "toc_position": {},
   "toc_section_display": true,
   "toc_window_display": false
  }
 },
 "nbformat": 4,
 "nbformat_minor": 5
}
