{
 "cells": [
  {
   "cell_type": "code",
   "execution_count": 1,
   "id": "73fc294c",
   "metadata": {},
   "outputs": [],
   "source": [
    "%load_ext autoreload\n",
    "%autoreload 2"
   ]
  },
  {
   "cell_type": "code",
   "execution_count": 2,
   "id": "1c4b1ef9",
   "metadata": {},
   "outputs": [],
   "source": [
    "import numpy as np\n",
    "import pandas as pd\n"
   ]
  },
  {
   "cell_type": "markdown",
   "id": "cac63b95",
   "metadata": {},
   "source": [
    "## Loading general info DataFrame"
   ]
  },
  {
   "cell_type": "code",
   "execution_count": 3,
   "id": "f56cfcb1",
   "metadata": {},
   "outputs": [],
   "source": [
    "infocsvfile = '../data/raw/info.csv'\n",
    "infocsv = pd.read_csv(infocsvfile)"
   ]
  },
  {
   "cell_type": "code",
   "execution_count": 4,
   "id": "4948d9d8",
   "metadata": {},
   "outputs": [
    {
     "name": "stdout",
     "output_type": "stream",
     "text": [
      "<class 'pandas.core.frame.DataFrame'>\n",
      "RangeIndex: 1150 entries, 0 to 1149\n",
      "Data columns (total 11 columns):\n",
      " #   Column          Non-Null Count  Dtype  \n",
      "---  ------          --------------  -----  \n",
      " 0   drummer         1150 non-null   object \n",
      " 1   session         1150 non-null   object \n",
      " 2   id              1150 non-null   object \n",
      " 3   style           1150 non-null   object \n",
      " 4   bpm             1150 non-null   int64  \n",
      " 5   beat_type       1150 non-null   object \n",
      " 6   time_signature  1150 non-null   object \n",
      " 7   midi_filename   1150 non-null   object \n",
      " 8   audio_filename  1090 non-null   object \n",
      " 9   duration        1150 non-null   float64\n",
      " 10  split           1150 non-null   object \n",
      "dtypes: float64(1), int64(1), object(9)\n",
      "memory usage: 99.0+ KB\n"
     ]
    }
   ],
   "source": [
    "infocsv.info()"
   ]
  },
  {
   "cell_type": "code",
   "execution_count": 5,
   "id": "37e15903",
   "metadata": {},
   "outputs": [
    {
     "data": {
      "text/html": [
       "<div>\n",
       "<style scoped>\n",
       "    .dataframe tbody tr th:only-of-type {\n",
       "        vertical-align: middle;\n",
       "    }\n",
       "\n",
       "    .dataframe tbody tr th {\n",
       "        vertical-align: top;\n",
       "    }\n",
       "\n",
       "    .dataframe thead th {\n",
       "        text-align: right;\n",
       "    }\n",
       "</style>\n",
       "<table border=\"1\" class=\"dataframe\">\n",
       "  <thead>\n",
       "    <tr style=\"text-align: right;\">\n",
       "      <th></th>\n",
       "      <th>drummer</th>\n",
       "      <th>session</th>\n",
       "      <th>id</th>\n",
       "      <th>style</th>\n",
       "      <th>bpm</th>\n",
       "      <th>beat_type</th>\n",
       "      <th>time_signature</th>\n",
       "      <th>midi_filename</th>\n",
       "      <th>audio_filename</th>\n",
       "      <th>duration</th>\n",
       "      <th>split</th>\n",
       "    </tr>\n",
       "  </thead>\n",
       "  <tbody>\n",
       "    <tr>\n",
       "      <th>973</th>\n",
       "      <td>drummer7</td>\n",
       "      <td>drummer7/session3</td>\n",
       "      <td>drummer7/session3/53</td>\n",
       "      <td>funk</td>\n",
       "      <td>112</td>\n",
       "      <td>fill</td>\n",
       "      <td>4-4</td>\n",
       "      <td>drummer7/session3/53_funk_112_fill_4-4.mid</td>\n",
       "      <td>drummer7/session3/53_funk_112_fill_4-4.wav</td>\n",
       "      <td>1.899553</td>\n",
       "      <td>test</td>\n",
       "    </tr>\n",
       "    <tr>\n",
       "      <th>1095</th>\n",
       "      <td>drummer8</td>\n",
       "      <td>drummer8/session2</td>\n",
       "      <td>drummer8/session2/4</td>\n",
       "      <td>afrobeat</td>\n",
       "      <td>114</td>\n",
       "      <td>beat</td>\n",
       "      <td>4-4</td>\n",
       "      <td>drummer8/session2/4_afrobeat_114_beat_4-4.mid</td>\n",
       "      <td>NaN</td>\n",
       "      <td>186.761040</td>\n",
       "      <td>train</td>\n",
       "    </tr>\n",
       "    <tr>\n",
       "      <th>614</th>\n",
       "      <td>drummer5</td>\n",
       "      <td>drummer5/eval_session</td>\n",
       "      <td>drummer5/eval_session/10</td>\n",
       "      <td>soul/groove10</td>\n",
       "      <td>102</td>\n",
       "      <td>beat</td>\n",
       "      <td>4-4</td>\n",
       "      <td>drummer5/eval_session/10_soul-groove10_102_bea...</td>\n",
       "      <td>drummer5/eval_session/10_soul-groove10_102_bea...</td>\n",
       "      <td>37.624981</td>\n",
       "      <td>test</td>\n",
       "    </tr>\n",
       "    <tr>\n",
       "      <th>514</th>\n",
       "      <td>drummer3</td>\n",
       "      <td>drummer3/session1</td>\n",
       "      <td>drummer3/session1/17</td>\n",
       "      <td>jazz</td>\n",
       "      <td>120</td>\n",
       "      <td>beat</td>\n",
       "      <td>4-4</td>\n",
       "      <td>drummer3/session1/17_jazz_120_beat_4-4.mid</td>\n",
       "      <td>drummer3/session1/17_jazz_120_beat_4-4.wav</td>\n",
       "      <td>3.196875</td>\n",
       "      <td>train</td>\n",
       "    </tr>\n",
       "    <tr>\n",
       "      <th>26</th>\n",
       "      <td>drummer1</td>\n",
       "      <td>drummer1/session1</td>\n",
       "      <td>drummer1/session1/113</td>\n",
       "      <td>funk</td>\n",
       "      <td>95</td>\n",
       "      <td>fill</td>\n",
       "      <td>4-4</td>\n",
       "      <td>drummer1/session1/113_funk_95_fill_4-4.mid</td>\n",
       "      <td>drummer1/session1/113_funk_95_fill_4-4.wav</td>\n",
       "      <td>4.792098</td>\n",
       "      <td>train</td>\n",
       "    </tr>\n",
       "  </tbody>\n",
       "</table>\n",
       "</div>"
      ],
      "text/plain": [
       "       drummer                session                        id  \\\n",
       "973   drummer7      drummer7/session3      drummer7/session3/53   \n",
       "1095  drummer8      drummer8/session2       drummer8/session2/4   \n",
       "614   drummer5  drummer5/eval_session  drummer5/eval_session/10   \n",
       "514   drummer3      drummer3/session1      drummer3/session1/17   \n",
       "26    drummer1      drummer1/session1     drummer1/session1/113   \n",
       "\n",
       "              style  bpm beat_type time_signature  \\\n",
       "973            funk  112      fill            4-4   \n",
       "1095       afrobeat  114      beat            4-4   \n",
       "614   soul/groove10  102      beat            4-4   \n",
       "514            jazz  120      beat            4-4   \n",
       "26             funk   95      fill            4-4   \n",
       "\n",
       "                                          midi_filename  \\\n",
       "973          drummer7/session3/53_funk_112_fill_4-4.mid   \n",
       "1095      drummer8/session2/4_afrobeat_114_beat_4-4.mid   \n",
       "614   drummer5/eval_session/10_soul-groove10_102_bea...   \n",
       "514          drummer3/session1/17_jazz_120_beat_4-4.mid   \n",
       "26           drummer1/session1/113_funk_95_fill_4-4.mid   \n",
       "\n",
       "                                         audio_filename    duration  split  \n",
       "973          drummer7/session3/53_funk_112_fill_4-4.wav    1.899553   test  \n",
       "1095                                                NaN  186.761040  train  \n",
       "614   drummer5/eval_session/10_soul-groove10_102_bea...   37.624981   test  \n",
       "514          drummer3/session1/17_jazz_120_beat_4-4.wav    3.196875  train  \n",
       "26           drummer1/session1/113_funk_95_fill_4-4.wav    4.792098  train  "
      ]
     },
     "execution_count": 5,
     "metadata": {},
     "output_type": "execute_result"
    }
   ],
   "source": [
    "infocsv.sample(5)"
   ]
  },
  {
   "cell_type": "code",
   "execution_count": 6,
   "id": "83b34667",
   "metadata": {},
   "outputs": [
    {
     "data": {
      "text/plain": [
       "drummer             10\n",
       "session             25\n",
       "id                1150\n",
       "style               76\n",
       "bpm                 79\n",
       "beat_type            2\n",
       "time_signature       5\n",
       "midi_filename     1150\n",
       "audio_filename    1090\n",
       "duration          1117\n",
       "split                3\n",
       "dtype: int64"
      ]
     },
     "execution_count": 6,
     "metadata": {},
     "output_type": "execute_result"
    }
   ],
   "source": [
    "infocsv.nunique()"
   ]
  },
  {
   "cell_type": "code",
   "execution_count": 7,
   "id": "23f66329",
   "metadata": {},
   "outputs": [
    {
     "data": {
      "text/plain": [
       "train         0.780000\n",
       "test          0.112174\n",
       "validation    0.107826\n",
       "Name: split, dtype: float64"
      ]
     },
     "execution_count": 7,
     "metadata": {},
     "output_type": "execute_result"
    }
   ],
   "source": [
    "infocsv.split.value_counts(normalize=True)"
   ]
  },
  {
   "cell_type": "code",
   "execution_count": 8,
   "id": "719544d5",
   "metadata": {},
   "outputs": [
    {
     "name": "stdout",
     "output_type": "stream",
     "text": [
      "<class 'pandas.core.frame.DataFrame'>\n",
      "Int64Index: 503 entries, 0 to 1149\n",
      "Data columns (total 11 columns):\n",
      " #   Column          Non-Null Count  Dtype  \n",
      "---  ------          --------------  -----  \n",
      " 0   drummer         503 non-null    object \n",
      " 1   session         503 non-null    object \n",
      " 2   id              503 non-null    object \n",
      " 3   style           503 non-null    object \n",
      " 4   bpm             503 non-null    int64  \n",
      " 5   beat_type       503 non-null    object \n",
      " 6   time_signature  503 non-null    object \n",
      " 7   midi_filename   503 non-null    object \n",
      " 8   audio_filename  444 non-null    object \n",
      " 9   duration        503 non-null    float64\n",
      " 10  split           503 non-null    object \n",
      "dtypes: float64(1), int64(1), object(9)\n",
      "memory usage: 47.2+ KB\n"
     ]
    }
   ],
   "source": [
    "infocsv[infocsv.beat_type == 'beat'].info()"
   ]
  },
  {
   "cell_type": "code",
   "execution_count": 9,
   "id": "2aaf96ba",
   "metadata": {},
   "outputs": [
    {
     "data": {
      "text/plain": [
       "(47129.62995, 1765.401679)"
      ]
     },
     "execution_count": 9,
     "metadata": {},
     "output_type": "execute_result"
    }
   ],
   "source": [
    "infocsv[infocsv.beat_type == 'beat'].duration.sum(), infocsv[infocsv.beat_type == 'fill'].duration.sum() "
   ]
  },
  {
   "cell_type": "markdown",
   "id": "f2678f82",
   "metadata": {},
   "source": [
    "## Filtering DataFrame"
   ]
  },
  {
   "cell_type": "code",
   "execution_count": 10,
   "id": "e4f261e1",
   "metadata": {},
   "outputs": [],
   "source": [
    "df = infocsv[infocsv.beat_type == 'beat']"
   ]
  },
  {
   "cell_type": "code",
   "execution_count": 11,
   "id": "cdb7f70e",
   "metadata": {},
   "outputs": [
    {
     "name": "stdout",
     "output_type": "stream",
     "text": [
      "<class 'pandas.core.frame.DataFrame'>\n",
      "Int64Index: 503 entries, 0 to 1149\n",
      "Data columns (total 11 columns):\n",
      " #   Column          Non-Null Count  Dtype  \n",
      "---  ------          --------------  -----  \n",
      " 0   drummer         503 non-null    object \n",
      " 1   session         503 non-null    object \n",
      " 2   id              503 non-null    object \n",
      " 3   style           503 non-null    object \n",
      " 4   bpm             503 non-null    int64  \n",
      " 5   beat_type       503 non-null    object \n",
      " 6   time_signature  503 non-null    object \n",
      " 7   midi_filename   503 non-null    object \n",
      " 8   audio_filename  444 non-null    object \n",
      " 9   duration        503 non-null    float64\n",
      " 10  split           503 non-null    object \n",
      "dtypes: float64(1), int64(1), object(9)\n",
      "memory usage: 47.2+ KB\n"
     ]
    }
   ],
   "source": [
    "df.info()"
   ]
  },
  {
   "cell_type": "code",
   "execution_count": 12,
   "id": "4cdb6c86",
   "metadata": {},
   "outputs": [
    {
     "data": {
      "text/plain": [
       "drummer            10\n",
       "session            25\n",
       "id                503\n",
       "style              76\n",
       "bpm                79\n",
       "beat_type           1\n",
       "time_signature      5\n",
       "midi_filename     503\n",
       "audio_filename    444\n",
       "duration          500\n",
       "split               3\n",
       "dtype: int64"
      ]
     },
     "execution_count": 12,
     "metadata": {},
     "output_type": "execute_result"
    }
   ],
   "source": [
    "df.nunique()"
   ]
  },
  {
   "cell_type": "code",
   "execution_count": 13,
   "id": "acb75d8f",
   "metadata": {},
   "outputs": [
    {
     "data": {
      "text/plain": [
       "59"
      ]
     },
     "execution_count": 13,
     "metadata": {},
     "output_type": "execute_result"
    }
   ],
   "source": [
    "(df.audio_filename.isna() == True).sum()"
   ]
  },
  {
   "cell_type": "code",
   "execution_count": 14,
   "id": "8aa850a4",
   "metadata": {},
   "outputs": [
    {
     "name": "stdout",
     "output_type": "stream",
     "text": [
      "<class 'pandas.core.frame.DataFrame'>\n",
      "Int64Index: 59 entries, 504 to 1149\n",
      "Data columns (total 11 columns):\n",
      " #   Column          Non-Null Count  Dtype  \n",
      "---  ------          --------------  -----  \n",
      " 0   drummer         59 non-null     object \n",
      " 1   session         59 non-null     object \n",
      " 2   id              59 non-null     object \n",
      " 3   style           59 non-null     object \n",
      " 4   bpm             59 non-null     int64  \n",
      " 5   beat_type       59 non-null     object \n",
      " 6   time_signature  59 non-null     object \n",
      " 7   midi_filename   59 non-null     object \n",
      " 8   audio_filename  0 non-null      object \n",
      " 9   duration        59 non-null     float64\n",
      " 10  split           59 non-null     object \n",
      "dtypes: float64(1), int64(1), object(9)\n",
      "memory usage: 5.5+ KB\n"
     ]
    }
   ],
   "source": [
    "df[df.audio_filename.isna() == True].info()"
   ]
  },
  {
   "cell_type": "code",
   "execution_count": 15,
   "id": "73893669",
   "metadata": {},
   "outputs": [],
   "source": [
    "df = df.dropna()"
   ]
  },
  {
   "cell_type": "code",
   "execution_count": 16,
   "id": "90794acb",
   "metadata": {},
   "outputs": [
    {
     "name": "stdout",
     "output_type": "stream",
     "text": [
      "<class 'pandas.core.frame.DataFrame'>\n",
      "Int64Index: 444 entries, 0 to 1133\n",
      "Data columns (total 11 columns):\n",
      " #   Column          Non-Null Count  Dtype  \n",
      "---  ------          --------------  -----  \n",
      " 0   drummer         444 non-null    object \n",
      " 1   session         444 non-null    object \n",
      " 2   id              444 non-null    object \n",
      " 3   style           444 non-null    object \n",
      " 4   bpm             444 non-null    int64  \n",
      " 5   beat_type       444 non-null    object \n",
      " 6   time_signature  444 non-null    object \n",
      " 7   midi_filename   444 non-null    object \n",
      " 8   audio_filename  444 non-null    object \n",
      " 9   duration        444 non-null    float64\n",
      " 10  split           444 non-null    object \n",
      "dtypes: float64(1), int64(1), object(9)\n",
      "memory usage: 41.6+ KB\n"
     ]
    }
   ],
   "source": [
    "df.info()"
   ]
  },
  {
   "cell_type": "code",
   "execution_count": 17,
   "id": "af8e6cd3",
   "metadata": {},
   "outputs": [],
   "source": [
    "df = df.drop(columns=['drummer', 'id', 'session', 'split', 'midi_filename'])"
   ]
  },
  {
   "cell_type": "code",
   "execution_count": 18,
   "id": "b99f70ec",
   "metadata": {},
   "outputs": [
    {
     "name": "stdout",
     "output_type": "stream",
     "text": [
      "<class 'pandas.core.frame.DataFrame'>\n",
      "Int64Index: 444 entries, 0 to 1133\n",
      "Data columns (total 6 columns):\n",
      " #   Column          Non-Null Count  Dtype  \n",
      "---  ------          --------------  -----  \n",
      " 0   style           444 non-null    object \n",
      " 1   bpm             444 non-null    int64  \n",
      " 2   beat_type       444 non-null    object \n",
      " 3   time_signature  444 non-null    object \n",
      " 4   audio_filename  444 non-null    object \n",
      " 5   duration        444 non-null    float64\n",
      "dtypes: float64(1), int64(1), object(4)\n",
      "memory usage: 24.3+ KB\n"
     ]
    }
   ],
   "source": [
    "df.info()"
   ]
  },
  {
   "cell_type": "code",
   "execution_count": 19,
   "id": "8f13e372",
   "metadata": {},
   "outputs": [
    {
     "data": {
      "text/plain": [
       "style              74\n",
       "bpm                73\n",
       "beat_type           1\n",
       "time_signature      5\n",
       "audio_filename    444\n",
       "duration          442\n",
       "dtype: int64"
      ]
     },
     "execution_count": 19,
     "metadata": {},
     "output_type": "execute_result"
    }
   ],
   "source": [
    "df.nunique()"
   ]
  },
  {
   "cell_type": "markdown",
   "id": "67456978",
   "metadata": {},
   "source": [
    "## Processing drumming styles"
   ]
  },
  {
   "cell_type": "code",
   "execution_count": 20,
   "id": "a4919a44",
   "metadata": {},
   "outputs": [
    {
     "data": {
      "text/plain": [
       "array(['funk/groove1', 'soul/groove10', 'funk/groove2', 'soul/groove3',\n",
       "       'soul/groove4', 'funk/groove5', 'hiphop/groove6', 'pop/groove7',\n",
       "       'rock/groove8', 'soul/groove9', 'funk', 'neworleans/secondline',\n",
       "       'dance/disco', 'funk/fast', 'latin/brazilian-baiao', 'afrocuban',\n",
       "       'reggae', 'reggae/slow', 'rock/halftime', 'funk/purdieshuffle',\n",
       "       'latin/samba', 'jazz/funk', 'jazz', 'rock/shuffle',\n",
       "       'jazz/mediumfast', 'jazz/fast', 'latin/reggaeton',\n",
       "       'dance/breakbeat', 'neworleans/funk', 'latin/chacarera', 'country',\n",
       "       'rock/prog', 'afrocuban/bembe', 'gospel', 'afrocuban/rhumba',\n",
       "       'rock', 'punk', 'jazz/march', 'funk/rock', 'rock/folk', 'afrobeat',\n",
       "       'latin/bomba', 'afrocuban/calypso', 'jazz/swing',\n",
       "       'rock/rockabilly', 'jazz/linear', 'hiphop', 'jazz/klezmer',\n",
       "       'latin/brazilian', 'blues/shuffle', 'latin/merengue',\n",
       "       'latin/brazilian-bossa', 'latin/brazilian-sambareggae',\n",
       "       'latin/brazilian-songo', 'middleeastern', 'latin/brazilian-samba',\n",
       "       'latin/brazilian-maracatu', 'latin/venezuelan-merengue',\n",
       "       'latin/dominican-merengue', 'latin/venezuelan-sangueo', 'soul',\n",
       "       'latin/venezuelan-joropo', 'latin/ando', 'latin/brazilian-ijexa',\n",
       "       'latin/brazilian-frevo', 'neworleans/chacha', 'neworleans/shuffle',\n",
       "       'pop', 'soul/motown', 'jazz/fusion', 'pop/soft', 'rock/indie',\n",
       "       'latin', 'funk/latin'], dtype=object)"
      ]
     },
     "execution_count": 20,
     "metadata": {},
     "output_type": "execute_result"
    }
   ],
   "source": [
    "df['style'].unique()"
   ]
  },
  {
   "cell_type": "code",
   "execution_count": 21,
   "id": "9fa8d7e3",
   "metadata": {},
   "outputs": [],
   "source": [
    "# df.loc[:, 'style_1'] = df['style'].apply(lambda x: x.split('/')[0])"
   ]
  },
  {
   "cell_type": "code",
   "execution_count": 22,
   "id": "00a89972",
   "metadata": {},
   "outputs": [],
   "source": [
    "tmp_list = df['style'].apply(lambda x: x.split('/')).to_list()"
   ]
  },
  {
   "cell_type": "code",
   "execution_count": 23,
   "id": "87116556",
   "metadata": {},
   "outputs": [],
   "source": [
    "tmp_df = pd.DataFrame(tmp_list, columns=['style_1', 'style_2'])"
   ]
  },
  {
   "cell_type": "code",
   "execution_count": 24,
   "id": "16ef91cb",
   "metadata": {},
   "outputs": [
    {
     "data": {
      "text/html": [
       "<div>\n",
       "<style scoped>\n",
       "    .dataframe tbody tr th:only-of-type {\n",
       "        vertical-align: middle;\n",
       "    }\n",
       "\n",
       "    .dataframe tbody tr th {\n",
       "        vertical-align: top;\n",
       "    }\n",
       "\n",
       "    .dataframe thead th {\n",
       "        text-align: right;\n",
       "    }\n",
       "</style>\n",
       "<table border=\"1\" class=\"dataframe\">\n",
       "  <thead>\n",
       "    <tr style=\"text-align: right;\">\n",
       "      <th></th>\n",
       "      <th>style_1</th>\n",
       "      <th>style_2</th>\n",
       "    </tr>\n",
       "  </thead>\n",
       "  <tbody>\n",
       "    <tr>\n",
       "      <th>0</th>\n",
       "      <td>funk</td>\n",
       "      <td>groove1</td>\n",
       "    </tr>\n",
       "    <tr>\n",
       "      <th>1</th>\n",
       "      <td>soul</td>\n",
       "      <td>groove10</td>\n",
       "    </tr>\n",
       "    <tr>\n",
       "      <th>2</th>\n",
       "      <td>funk</td>\n",
       "      <td>groove2</td>\n",
       "    </tr>\n",
       "    <tr>\n",
       "      <th>3</th>\n",
       "      <td>soul</td>\n",
       "      <td>groove3</td>\n",
       "    </tr>\n",
       "    <tr>\n",
       "      <th>4</th>\n",
       "      <td>soul</td>\n",
       "      <td>groove4</td>\n",
       "    </tr>\n",
       "  </tbody>\n",
       "</table>\n",
       "</div>"
      ],
      "text/plain": [
       "  style_1   style_2\n",
       "0    funk   groove1\n",
       "1    soul  groove10\n",
       "2    funk   groove2\n",
       "3    soul   groove3\n",
       "4    soul   groove4"
      ]
     },
     "execution_count": 24,
     "metadata": {},
     "output_type": "execute_result"
    }
   ],
   "source": [
    "tmp_df.head()"
   ]
  },
  {
   "cell_type": "code",
   "execution_count": 25,
   "id": "23e4d17c",
   "metadata": {},
   "outputs": [
    {
     "data": {
      "text/plain": [
       "style_1    17\n",
       "style_2    56\n",
       "dtype: int64"
      ]
     },
     "execution_count": 25,
     "metadata": {},
     "output_type": "execute_result"
    }
   ],
   "source": [
    "tmp_df.nunique()"
   ]
  },
  {
   "cell_type": "code",
   "execution_count": 26,
   "id": "e21f2c4b",
   "metadata": {},
   "outputs": [
    {
     "data": {
      "text/plain": [
       "array(['funk', 'soul', 'hiphop', 'pop', 'rock', 'neworleans', 'dance',\n",
       "       'latin', 'afrocuban', 'reggae', 'jazz', 'country', 'gospel',\n",
       "       'punk', 'afrobeat', 'blues', 'middleeastern'], dtype=object)"
      ]
     },
     "execution_count": 26,
     "metadata": {},
     "output_type": "execute_result"
    }
   ],
   "source": [
    "tmp_df.style_1.unique()"
   ]
  },
  {
   "cell_type": "code",
   "execution_count": 27,
   "id": "4995b598",
   "metadata": {},
   "outputs": [
    {
     "data": {
      "text/plain": [
       "array(['groove1', 'groove10', 'groove2', 'groove3', 'groove4', 'groove5',\n",
       "       'groove6', 'groove7', 'groove8', 'groove9', None, 'secondline',\n",
       "       'disco', 'fast', 'brazilian-baiao', 'slow', 'halftime',\n",
       "       'purdieshuffle', 'samba', 'funk', 'shuffle', 'mediumfast',\n",
       "       'reggaeton', 'breakbeat', 'chacarera', 'prog', 'bembe', 'rhumba',\n",
       "       'march', 'rock', 'folk', 'bomba', 'calypso', 'swing', 'rockabilly',\n",
       "       'linear', 'klezmer', 'brazilian', 'merengue', 'brazilian-bossa',\n",
       "       'brazilian-sambareggae', 'brazilian-songo', 'brazilian-samba',\n",
       "       'brazilian-maracatu', 'venezuelan-merengue', 'dominican-merengue',\n",
       "       'venezuelan-sangueo', 'venezuelan-joropo', 'ando',\n",
       "       'brazilian-ijexa', 'brazilian-frevo', 'chacha', 'motown', 'fusion',\n",
       "       'soft', 'indie', 'latin'], dtype=object)"
      ]
     },
     "execution_count": 27,
     "metadata": {},
     "output_type": "execute_result"
    }
   ],
   "source": [
    "tmp_df.style_2.unique()"
   ]
  },
  {
   "cell_type": "code",
   "execution_count": 28,
   "id": "3d85eba7",
   "metadata": {},
   "outputs": [],
   "source": [
    "# df = pd.concat([df, pd.DataFrame(tmp_list)], axis=1).rename(columns={0: 'style_1', 1: 'style_2'})\n",
    "# df"
   ]
  },
  {
   "cell_type": "code",
   "execution_count": 29,
   "id": "34b39554",
   "metadata": {},
   "outputs": [
    {
     "data": {
      "text/html": [
       "<div>\n",
       "<style scoped>\n",
       "    .dataframe tbody tr th:only-of-type {\n",
       "        vertical-align: middle;\n",
       "    }\n",
       "\n",
       "    .dataframe tbody tr th {\n",
       "        vertical-align: top;\n",
       "    }\n",
       "\n",
       "    .dataframe thead th {\n",
       "        text-align: right;\n",
       "    }\n",
       "</style>\n",
       "<table border=\"1\" class=\"dataframe\">\n",
       "  <thead>\n",
       "    <tr style=\"text-align: right;\">\n",
       "      <th></th>\n",
       "      <th>style</th>\n",
       "      <th>bpm</th>\n",
       "      <th>beat_type</th>\n",
       "      <th>time_signature</th>\n",
       "      <th>audio_filename</th>\n",
       "      <th>duration</th>\n",
       "    </tr>\n",
       "  </thead>\n",
       "  <tbody>\n",
       "    <tr>\n",
       "      <th>0</th>\n",
       "      <td>funk/groove1</td>\n",
       "      <td>138</td>\n",
       "      <td>beat</td>\n",
       "      <td>4-4</td>\n",
       "      <td>drummer1/eval_session/1_funk-groove1_138_beat_...</td>\n",
       "      <td>27.872308</td>\n",
       "    </tr>\n",
       "    <tr>\n",
       "      <th>1</th>\n",
       "      <td>soul/groove10</td>\n",
       "      <td>102</td>\n",
       "      <td>beat</td>\n",
       "      <td>4-4</td>\n",
       "      <td>drummer1/eval_session/10_soul-groove10_102_bea...</td>\n",
       "      <td>37.691158</td>\n",
       "    </tr>\n",
       "    <tr>\n",
       "      <th>2</th>\n",
       "      <td>funk/groove2</td>\n",
       "      <td>105</td>\n",
       "      <td>beat</td>\n",
       "      <td>4-4</td>\n",
       "      <td>drummer1/eval_session/2_funk-groove2_105_beat_...</td>\n",
       "      <td>36.351218</td>\n",
       "    </tr>\n",
       "    <tr>\n",
       "      <th>3</th>\n",
       "      <td>soul/groove3</td>\n",
       "      <td>86</td>\n",
       "      <td>beat</td>\n",
       "      <td>4-4</td>\n",
       "      <td>drummer1/eval_session/3_soul-groove3_86_beat_4...</td>\n",
       "      <td>44.716543</td>\n",
       "    </tr>\n",
       "    <tr>\n",
       "      <th>4</th>\n",
       "      <td>soul/groove4</td>\n",
       "      <td>80</td>\n",
       "      <td>beat</td>\n",
       "      <td>4-4</td>\n",
       "      <td>drummer1/eval_session/4_soul-groove4_80_beat_4...</td>\n",
       "      <td>47.987500</td>\n",
       "    </tr>\n",
       "  </tbody>\n",
       "</table>\n",
       "</div>"
      ],
      "text/plain": [
       "           style  bpm beat_type time_signature  \\\n",
       "0   funk/groove1  138      beat            4-4   \n",
       "1  soul/groove10  102      beat            4-4   \n",
       "2   funk/groove2  105      beat            4-4   \n",
       "3   soul/groove3   86      beat            4-4   \n",
       "4   soul/groove4   80      beat            4-4   \n",
       "\n",
       "                                      audio_filename   duration  \n",
       "0  drummer1/eval_session/1_funk-groove1_138_beat_...  27.872308  \n",
       "1  drummer1/eval_session/10_soul-groove10_102_bea...  37.691158  \n",
       "2  drummer1/eval_session/2_funk-groove2_105_beat_...  36.351218  \n",
       "3  drummer1/eval_session/3_soul-groove3_86_beat_4...  44.716543  \n",
       "4  drummer1/eval_session/4_soul-groove4_80_beat_4...  47.987500  "
      ]
     },
     "execution_count": 29,
     "metadata": {},
     "output_type": "execute_result"
    }
   ],
   "source": [
    "df.head()"
   ]
  },
  {
   "cell_type": "code",
   "execution_count": 30,
   "id": "ace4f799",
   "metadata": {},
   "outputs": [],
   "source": [
    "style_list = df['style'].apply(lambda x: x.split('/')[0]).to_list()"
   ]
  },
  {
   "cell_type": "code",
   "execution_count": 31,
   "id": "b3ecb6f7",
   "metadata": {},
   "outputs": [],
   "source": [
    "df = df.drop(columns='style')\n",
    "df.loc[:, 'style'] = style_list"
   ]
  },
  {
   "cell_type": "code",
   "execution_count": 32,
   "id": "d1264ec2",
   "metadata": {},
   "outputs": [
    {
     "data": {
      "text/html": [
       "<div>\n",
       "<style scoped>\n",
       "    .dataframe tbody tr th:only-of-type {\n",
       "        vertical-align: middle;\n",
       "    }\n",
       "\n",
       "    .dataframe tbody tr th {\n",
       "        vertical-align: top;\n",
       "    }\n",
       "\n",
       "    .dataframe thead th {\n",
       "        text-align: right;\n",
       "    }\n",
       "</style>\n",
       "<table border=\"1\" class=\"dataframe\">\n",
       "  <thead>\n",
       "    <tr style=\"text-align: right;\">\n",
       "      <th></th>\n",
       "      <th>bpm</th>\n",
       "      <th>beat_type</th>\n",
       "      <th>time_signature</th>\n",
       "      <th>audio_filename</th>\n",
       "      <th>duration</th>\n",
       "      <th>style</th>\n",
       "    </tr>\n",
       "  </thead>\n",
       "  <tbody>\n",
       "    <tr>\n",
       "      <th>0</th>\n",
       "      <td>138</td>\n",
       "      <td>beat</td>\n",
       "      <td>4-4</td>\n",
       "      <td>drummer1/eval_session/1_funk-groove1_138_beat_...</td>\n",
       "      <td>27.872308</td>\n",
       "      <td>funk</td>\n",
       "    </tr>\n",
       "    <tr>\n",
       "      <th>1</th>\n",
       "      <td>102</td>\n",
       "      <td>beat</td>\n",
       "      <td>4-4</td>\n",
       "      <td>drummer1/eval_session/10_soul-groove10_102_bea...</td>\n",
       "      <td>37.691158</td>\n",
       "      <td>soul</td>\n",
       "    </tr>\n",
       "    <tr>\n",
       "      <th>2</th>\n",
       "      <td>105</td>\n",
       "      <td>beat</td>\n",
       "      <td>4-4</td>\n",
       "      <td>drummer1/eval_session/2_funk-groove2_105_beat_...</td>\n",
       "      <td>36.351218</td>\n",
       "      <td>funk</td>\n",
       "    </tr>\n",
       "    <tr>\n",
       "      <th>3</th>\n",
       "      <td>86</td>\n",
       "      <td>beat</td>\n",
       "      <td>4-4</td>\n",
       "      <td>drummer1/eval_session/3_soul-groove3_86_beat_4...</td>\n",
       "      <td>44.716543</td>\n",
       "      <td>soul</td>\n",
       "    </tr>\n",
       "    <tr>\n",
       "      <th>4</th>\n",
       "      <td>80</td>\n",
       "      <td>beat</td>\n",
       "      <td>4-4</td>\n",
       "      <td>drummer1/eval_session/4_soul-groove4_80_beat_4...</td>\n",
       "      <td>47.987500</td>\n",
       "      <td>soul</td>\n",
       "    </tr>\n",
       "  </tbody>\n",
       "</table>\n",
       "</div>"
      ],
      "text/plain": [
       "   bpm beat_type time_signature  \\\n",
       "0  138      beat            4-4   \n",
       "1  102      beat            4-4   \n",
       "2  105      beat            4-4   \n",
       "3   86      beat            4-4   \n",
       "4   80      beat            4-4   \n",
       "\n",
       "                                      audio_filename   duration style  \n",
       "0  drummer1/eval_session/1_funk-groove1_138_beat_...  27.872308  funk  \n",
       "1  drummer1/eval_session/10_soul-groove10_102_bea...  37.691158  soul  \n",
       "2  drummer1/eval_session/2_funk-groove2_105_beat_...  36.351218  funk  \n",
       "3  drummer1/eval_session/3_soul-groove3_86_beat_4...  44.716543  soul  \n",
       "4  drummer1/eval_session/4_soul-groove4_80_beat_4...  47.987500  soul  "
      ]
     },
     "execution_count": 32,
     "metadata": {},
     "output_type": "execute_result"
    }
   ],
   "source": [
    "df.head()"
   ]
  },
  {
   "cell_type": "code",
   "execution_count": 33,
   "id": "25360078",
   "metadata": {},
   "outputs": [
    {
     "data": {
      "text/plain": [
       "array(['funk', 'soul', 'hiphop', 'pop', 'rock', 'neworleans', 'dance',\n",
       "       'latin', 'afrocuban', 'reggae', 'jazz', 'country', 'gospel',\n",
       "       'punk', 'afrobeat', 'blues', 'middleeastern'], dtype=object)"
      ]
     },
     "execution_count": 33,
     "metadata": {},
     "output_type": "execute_result"
    }
   ],
   "source": [
    "df['style'].unique()"
   ]
  },
  {
   "cell_type": "code",
   "execution_count": 34,
   "id": "f707d6d7",
   "metadata": {},
   "outputs": [
    {
     "data": {
      "text/plain": [
       "rock             186\n",
       "jazz              50\n",
       "funk              45\n",
       "latin             42\n",
       "hiphop            32\n",
       "soul              28\n",
       "pop               15\n",
       "neworleans        11\n",
       "punk               7\n",
       "afrocuban          7\n",
       "dance              5\n",
       "reggae             4\n",
       "afrobeat           4\n",
       "blues              4\n",
       "country            2\n",
       "gospel             1\n",
       "middleeastern      1\n",
       "Name: style, dtype: int64"
      ]
     },
     "execution_count": 34,
     "metadata": {},
     "output_type": "execute_result"
    }
   ],
   "source": [
    "df['style'].value_counts()"
   ]
  },
  {
   "cell_type": "markdown",
   "id": "1a030305",
   "metadata": {},
   "source": [
    "## Quantifying duration of all samples"
   ]
  },
  {
   "cell_type": "code",
   "execution_count": 35,
   "id": "fab52d10",
   "metadata": {},
   "outputs": [
    {
     "data": {
      "text/html": [
       "<div>\n",
       "<style scoped>\n",
       "    .dataframe tbody tr th:only-of-type {\n",
       "        vertical-align: middle;\n",
       "    }\n",
       "\n",
       "    .dataframe tbody tr th {\n",
       "        vertical-align: top;\n",
       "    }\n",
       "\n",
       "    .dataframe thead th {\n",
       "        text-align: right;\n",
       "    }\n",
       "</style>\n",
       "<table border=\"1\" class=\"dataframe\">\n",
       "  <thead>\n",
       "    <tr style=\"text-align: right;\">\n",
       "      <th></th>\n",
       "      <th>bpm</th>\n",
       "      <th>beat_type</th>\n",
       "      <th>time_signature</th>\n",
       "      <th>audio_filename</th>\n",
       "      <th>duration</th>\n",
       "      <th>style</th>\n",
       "    </tr>\n",
       "  </thead>\n",
       "  <tbody>\n",
       "    <tr>\n",
       "      <th>633</th>\n",
       "      <td>126</td>\n",
       "      <td>beat</td>\n",
       "      <td>4-4</td>\n",
       "      <td>drummer5/session1/19_middleeastern_126_beat_4-...</td>\n",
       "      <td>226.604932</td>\n",
       "      <td>middleeastern</td>\n",
       "    </tr>\n",
       "  </tbody>\n",
       "</table>\n",
       "</div>"
      ],
      "text/plain": [
       "     bpm beat_type time_signature  \\\n",
       "633  126      beat            4-4   \n",
       "\n",
       "                                        audio_filename    duration  \\\n",
       "633  drummer5/session1/19_middleeastern_126_beat_4-...  226.604932   \n",
       "\n",
       "             style  \n",
       "633  middleeastern  "
      ]
     },
     "execution_count": 35,
     "metadata": {},
     "output_type": "execute_result"
    }
   ],
   "source": [
    "filtered_sytle = 'middleeastern'\n",
    "df[df['style'] == filtered_sytle]"
   ]
  },
  {
   "cell_type": "code",
   "execution_count": 36,
   "id": "26ea3d56",
   "metadata": {},
   "outputs": [
    {
     "data": {
      "text/html": [
       "<div>\n",
       "<style scoped>\n",
       "    .dataframe tbody tr th:only-of-type {\n",
       "        vertical-align: middle;\n",
       "    }\n",
       "\n",
       "    .dataframe tbody tr th {\n",
       "        vertical-align: top;\n",
       "    }\n",
       "\n",
       "    .dataframe thead th {\n",
       "        text-align: right;\n",
       "    }\n",
       "</style>\n",
       "<table border=\"1\" class=\"dataframe\">\n",
       "  <thead>\n",
       "    <tr style=\"text-align: right;\">\n",
       "      <th></th>\n",
       "      <th>bpm</th>\n",
       "      <th>beat_type</th>\n",
       "      <th>time_signature</th>\n",
       "      <th>audio_filename</th>\n",
       "      <th>duration</th>\n",
       "      <th>style</th>\n",
       "    </tr>\n",
       "  </thead>\n",
       "  <tbody>\n",
       "    <tr>\n",
       "      <th>326</th>\n",
       "      <td>120</td>\n",
       "      <td>beat</td>\n",
       "      <td>4-4</td>\n",
       "      <td>drummer1/session2/142_gospel_120_beat_4-4.wav</td>\n",
       "      <td>139.527083</td>\n",
       "      <td>gospel</td>\n",
       "    </tr>\n",
       "  </tbody>\n",
       "</table>\n",
       "</div>"
      ],
      "text/plain": [
       "     bpm beat_type time_signature  \\\n",
       "326  120      beat            4-4   \n",
       "\n",
       "                                    audio_filename    duration   style  \n",
       "326  drummer1/session2/142_gospel_120_beat_4-4.wav  139.527083  gospel  "
      ]
     },
     "execution_count": 36,
     "metadata": {},
     "output_type": "execute_result"
    }
   ],
   "source": [
    "filtered_sytle = 'gospel'\n",
    "df[df['style'] == filtered_sytle]"
   ]
  },
  {
   "cell_type": "code",
   "execution_count": 37,
   "id": "4ff8cf4c",
   "metadata": {},
   "outputs": [
    {
     "data": {
      "text/html": [
       "<div>\n",
       "<style scoped>\n",
       "    .dataframe tbody tr th:only-of-type {\n",
       "        vertical-align: middle;\n",
       "    }\n",
       "\n",
       "    .dataframe tbody tr th {\n",
       "        vertical-align: top;\n",
       "    }\n",
       "\n",
       "    .dataframe thead th {\n",
       "        text-align: right;\n",
       "    }\n",
       "</style>\n",
       "<table border=\"1\" class=\"dataframe\">\n",
       "  <thead>\n",
       "    <tr style=\"text-align: right;\">\n",
       "      <th></th>\n",
       "      <th>duration</th>\n",
       "    </tr>\n",
       "    <tr>\n",
       "      <th>style</th>\n",
       "      <th></th>\n",
       "    </tr>\n",
       "  </thead>\n",
       "  <tbody>\n",
       "    <tr>\n",
       "      <th>gospel</th>\n",
       "      <td>139.527083</td>\n",
       "    </tr>\n",
       "    <tr>\n",
       "      <th>middleeastern</th>\n",
       "      <td>226.604932</td>\n",
       "    </tr>\n",
       "    <tr>\n",
       "      <th>blues</th>\n",
       "      <td>288.831759</td>\n",
       "    </tr>\n",
       "    <tr>\n",
       "      <th>country</th>\n",
       "      <td>299.666435</td>\n",
       "    </tr>\n",
       "    <tr>\n",
       "      <th>punk</th>\n",
       "      <td>484.656602</td>\n",
       "    </tr>\n",
       "    <tr>\n",
       "      <th>reggae</th>\n",
       "      <td>619.261933</td>\n",
       "    </tr>\n",
       "    <tr>\n",
       "      <th>pop</th>\n",
       "      <td>637.575426</td>\n",
       "    </tr>\n",
       "    <tr>\n",
       "      <th>dance</th>\n",
       "      <td>656.424061</td>\n",
       "    </tr>\n",
       "    <tr>\n",
       "      <th>afrobeat</th>\n",
       "      <td>796.189359</td>\n",
       "    </tr>\n",
       "    <tr>\n",
       "      <th>soul</th>\n",
       "      <td>1465.337106</td>\n",
       "    </tr>\n",
       "    <tr>\n",
       "      <th>neworleans</th>\n",
       "      <td>1519.564186</td>\n",
       "    </tr>\n",
       "    <tr>\n",
       "      <th>afrocuban</th>\n",
       "      <td>1610.531101</td>\n",
       "    </tr>\n",
       "    <tr>\n",
       "      <th>hiphop</th>\n",
       "      <td>2025.612826</td>\n",
       "    </tr>\n",
       "    <tr>\n",
       "      <th>jazz</th>\n",
       "      <td>4115.426525</td>\n",
       "    </tr>\n",
       "    <tr>\n",
       "      <th>funk</th>\n",
       "      <td>4413.172960</td>\n",
       "    </tr>\n",
       "    <tr>\n",
       "      <th>latin</th>\n",
       "      <td>6953.082032</td>\n",
       "    </tr>\n",
       "    <tr>\n",
       "      <th>rock</th>\n",
       "      <td>10718.978988</td>\n",
       "    </tr>\n",
       "  </tbody>\n",
       "</table>\n",
       "</div>"
      ],
      "text/plain": [
       "                   duration\n",
       "style                      \n",
       "gospel           139.527083\n",
       "middleeastern    226.604932\n",
       "blues            288.831759\n",
       "country          299.666435\n",
       "punk             484.656602\n",
       "reggae           619.261933\n",
       "pop              637.575426\n",
       "dance            656.424061\n",
       "afrobeat         796.189359\n",
       "soul            1465.337106\n",
       "neworleans      1519.564186\n",
       "afrocuban       1610.531101\n",
       "hiphop          2025.612826\n",
       "jazz            4115.426525\n",
       "funk            4413.172960\n",
       "latin           6953.082032\n",
       "rock           10718.978988"
      ]
     },
     "execution_count": 37,
     "metadata": {},
     "output_type": "execute_result"
    }
   ],
   "source": [
    "total_seconds = df[['style', 'duration']].groupby(by='style').sum().sort_values(by='duration')\n",
    "total_seconds"
   ]
  },
  {
   "cell_type": "markdown",
   "id": "7cb9bbe6",
   "metadata": {},
   "source": [
    "### How many samples are possible with a duration of *seq = x* ?"
   ]
  },
  {
   "cell_type": "code",
   "execution_count": 38,
   "id": "97efbf04",
   "metadata": {},
   "outputs": [
    {
     "data": {
      "text/plain": [
       "style\n",
       "gospel             13\n",
       "middleeastern      22\n",
       "blues              28\n",
       "country            29\n",
       "punk               48\n",
       "reggae             61\n",
       "pop                63\n",
       "dance              65\n",
       "afrobeat           79\n",
       "soul              146\n",
       "neworleans        151\n",
       "afrocuban         161\n",
       "hiphop            202\n",
       "jazz              411\n",
       "funk              441\n",
       "latin             695\n",
       "rock             1071\n",
       "Name: duration, dtype: int64"
      ]
     },
     "execution_count": 38,
     "metadata": {},
     "output_type": "execute_result"
    }
   ],
   "source": [
    "seq = 10 # Sequence of x seconds \n",
    "\n",
    "total_seconds.duration.apply(lambda x: int(x/seq))"
   ]
  },
  {
   "cell_type": "markdown",
   "id": "acef06b4",
   "metadata": {},
   "source": [
    "## Putting all together with functions in drumbeatid-2.0 app"
   ]
  },
  {
   "cell_type": "code",
   "execution_count": 41,
   "id": "6eb88c6f",
   "metadata": {},
   "outputs": [],
   "source": [
    "from drumbeatid.data.sample_processing import processing_drummers, count_sequences"
   ]
  },
  {
   "cell_type": "code",
   "execution_count": 42,
   "id": "b6aa547f",
   "metadata": {},
   "outputs": [
    {
     "data": {
      "text/html": [
       "<div>\n",
       "<style scoped>\n",
       "    .dataframe tbody tr th:only-of-type {\n",
       "        vertical-align: middle;\n",
       "    }\n",
       "\n",
       "    .dataframe tbody tr th {\n",
       "        vertical-align: top;\n",
       "    }\n",
       "\n",
       "    .dataframe thead th {\n",
       "        text-align: right;\n",
       "    }\n",
       "</style>\n",
       "<table border=\"1\" class=\"dataframe\">\n",
       "  <thead>\n",
       "    <tr style=\"text-align: right;\">\n",
       "      <th></th>\n",
       "      <th>bpm</th>\n",
       "      <th>beat_type</th>\n",
       "      <th>time_signature</th>\n",
       "      <th>audio_filename</th>\n",
       "      <th>duration</th>\n",
       "      <th>style</th>\n",
       "    </tr>\n",
       "  </thead>\n",
       "  <tbody>\n",
       "    <tr>\n",
       "      <th>0</th>\n",
       "      <td>138</td>\n",
       "      <td>beat</td>\n",
       "      <td>4-4</td>\n",
       "      <td>drummer1/eval_session/1_funk-groove1_138_beat_...</td>\n",
       "      <td>27.872308</td>\n",
       "      <td>funk</td>\n",
       "    </tr>\n",
       "    <tr>\n",
       "      <th>1</th>\n",
       "      <td>102</td>\n",
       "      <td>beat</td>\n",
       "      <td>4-4</td>\n",
       "      <td>drummer1/eval_session/10_soul-groove10_102_bea...</td>\n",
       "      <td>37.691158</td>\n",
       "      <td>soul</td>\n",
       "    </tr>\n",
       "    <tr>\n",
       "      <th>2</th>\n",
       "      <td>105</td>\n",
       "      <td>beat</td>\n",
       "      <td>4-4</td>\n",
       "      <td>drummer1/eval_session/2_funk-groove2_105_beat_...</td>\n",
       "      <td>36.351218</td>\n",
       "      <td>funk</td>\n",
       "    </tr>\n",
       "    <tr>\n",
       "      <th>3</th>\n",
       "      <td>86</td>\n",
       "      <td>beat</td>\n",
       "      <td>4-4</td>\n",
       "      <td>drummer1/eval_session/3_soul-groove3_86_beat_4...</td>\n",
       "      <td>44.716543</td>\n",
       "      <td>soul</td>\n",
       "    </tr>\n",
       "    <tr>\n",
       "      <th>4</th>\n",
       "      <td>80</td>\n",
       "      <td>beat</td>\n",
       "      <td>4-4</td>\n",
       "      <td>drummer1/eval_session/4_soul-groove4_80_beat_4...</td>\n",
       "      <td>47.987500</td>\n",
       "      <td>soul</td>\n",
       "    </tr>\n",
       "    <tr>\n",
       "      <th>...</th>\n",
       "      <td>...</td>\n",
       "      <td>...</td>\n",
       "      <td>...</td>\n",
       "      <td>...</td>\n",
       "      <td>...</td>\n",
       "      <td>...</td>\n",
       "    </tr>\n",
       "    <tr>\n",
       "      <th>1129</th>\n",
       "      <td>100</td>\n",
       "      <td>beat</td>\n",
       "      <td>4-4</td>\n",
       "      <td>drummer9/session1/5_rock_100_beat_4-4.wav</td>\n",
       "      <td>71.780000</td>\n",
       "      <td>rock</td>\n",
       "    </tr>\n",
       "    <tr>\n",
       "      <th>1130</th>\n",
       "      <td>100</td>\n",
       "      <td>beat</td>\n",
       "      <td>4-4</td>\n",
       "      <td>drummer9/session1/6_rock_100_beat_4-4.wav</td>\n",
       "      <td>4.748750</td>\n",
       "      <td>rock</td>\n",
       "    </tr>\n",
       "    <tr>\n",
       "      <th>1131</th>\n",
       "      <td>100</td>\n",
       "      <td>beat</td>\n",
       "      <td>4-4</td>\n",
       "      <td>drummer9/session1/7_rock_100_beat_4-4.wav</td>\n",
       "      <td>23.938750</td>\n",
       "      <td>rock</td>\n",
       "    </tr>\n",
       "    <tr>\n",
       "      <th>1132</th>\n",
       "      <td>100</td>\n",
       "      <td>beat</td>\n",
       "      <td>4-4</td>\n",
       "      <td>drummer9/session1/8_rock_100_beat_4-4.wav</td>\n",
       "      <td>11.208750</td>\n",
       "      <td>rock</td>\n",
       "    </tr>\n",
       "    <tr>\n",
       "      <th>1133</th>\n",
       "      <td>100</td>\n",
       "      <td>beat</td>\n",
       "      <td>4-4</td>\n",
       "      <td>drummer9/session1/9_rock_100_beat_4-4.wav</td>\n",
       "      <td>9.071250</td>\n",
       "      <td>rock</td>\n",
       "    </tr>\n",
       "  </tbody>\n",
       "</table>\n",
       "<p>444 rows × 6 columns</p>\n",
       "</div>"
      ],
      "text/plain": [
       "      bpm beat_type time_signature  \\\n",
       "0     138      beat            4-4   \n",
       "1     102      beat            4-4   \n",
       "2     105      beat            4-4   \n",
       "3      86      beat            4-4   \n",
       "4      80      beat            4-4   \n",
       "...   ...       ...            ...   \n",
       "1129  100      beat            4-4   \n",
       "1130  100      beat            4-4   \n",
       "1131  100      beat            4-4   \n",
       "1132  100      beat            4-4   \n",
       "1133  100      beat            4-4   \n",
       "\n",
       "                                         audio_filename   duration style  \n",
       "0     drummer1/eval_session/1_funk-groove1_138_beat_...  27.872308  funk  \n",
       "1     drummer1/eval_session/10_soul-groove10_102_bea...  37.691158  soul  \n",
       "2     drummer1/eval_session/2_funk-groove2_105_beat_...  36.351218  funk  \n",
       "3     drummer1/eval_session/3_soul-groove3_86_beat_4...  44.716543  soul  \n",
       "4     drummer1/eval_session/4_soul-groove4_80_beat_4...  47.987500  soul  \n",
       "...                                                 ...        ...   ...  \n",
       "1129          drummer9/session1/5_rock_100_beat_4-4.wav  71.780000  rock  \n",
       "1130          drummer9/session1/6_rock_100_beat_4-4.wav   4.748750  rock  \n",
       "1131          drummer9/session1/7_rock_100_beat_4-4.wav  23.938750  rock  \n",
       "1132          drummer9/session1/8_rock_100_beat_4-4.wav  11.208750  rock  \n",
       "1133          drummer9/session1/9_rock_100_beat_4-4.wav   9.071250  rock  \n",
       "\n",
       "[444 rows x 6 columns]"
      ]
     },
     "execution_count": 42,
     "metadata": {},
     "output_type": "execute_result"
    }
   ],
   "source": [
    "df_drummers = processing_drummers(infocsv)\n",
    "df_drummers"
   ]
  },
  {
   "cell_type": "code",
   "execution_count": 43,
   "id": "fb37933a",
   "metadata": {},
   "outputs": [
    {
     "data": {
      "text/html": [
       "<div>\n",
       "<style scoped>\n",
       "    .dataframe tbody tr th:only-of-type {\n",
       "        vertical-align: middle;\n",
       "    }\n",
       "\n",
       "    .dataframe tbody tr th {\n",
       "        vertical-align: top;\n",
       "    }\n",
       "\n",
       "    .dataframe thead th {\n",
       "        text-align: right;\n",
       "    }\n",
       "</style>\n",
       "<table border=\"1\" class=\"dataframe\">\n",
       "  <thead>\n",
       "    <tr style=\"text-align: right;\">\n",
       "      <th></th>\n",
       "      <th>duration</th>\n",
       "      <th>number_sequences</th>\n",
       "    </tr>\n",
       "    <tr>\n",
       "      <th>style</th>\n",
       "      <th></th>\n",
       "      <th></th>\n",
       "    </tr>\n",
       "  </thead>\n",
       "  <tbody>\n",
       "    <tr>\n",
       "      <th>gospel</th>\n",
       "      <td>139.527083</td>\n",
       "      <td>13</td>\n",
       "    </tr>\n",
       "    <tr>\n",
       "      <th>middleeastern</th>\n",
       "      <td>226.604932</td>\n",
       "      <td>22</td>\n",
       "    </tr>\n",
       "    <tr>\n",
       "      <th>blues</th>\n",
       "      <td>288.831759</td>\n",
       "      <td>28</td>\n",
       "    </tr>\n",
       "    <tr>\n",
       "      <th>country</th>\n",
       "      <td>299.666435</td>\n",
       "      <td>29</td>\n",
       "    </tr>\n",
       "    <tr>\n",
       "      <th>punk</th>\n",
       "      <td>484.656602</td>\n",
       "      <td>48</td>\n",
       "    </tr>\n",
       "    <tr>\n",
       "      <th>reggae</th>\n",
       "      <td>619.261933</td>\n",
       "      <td>61</td>\n",
       "    </tr>\n",
       "    <tr>\n",
       "      <th>pop</th>\n",
       "      <td>637.575426</td>\n",
       "      <td>63</td>\n",
       "    </tr>\n",
       "    <tr>\n",
       "      <th>dance</th>\n",
       "      <td>656.424061</td>\n",
       "      <td>65</td>\n",
       "    </tr>\n",
       "    <tr>\n",
       "      <th>afrobeat</th>\n",
       "      <td>796.189359</td>\n",
       "      <td>79</td>\n",
       "    </tr>\n",
       "    <tr>\n",
       "      <th>soul</th>\n",
       "      <td>1465.337106</td>\n",
       "      <td>146</td>\n",
       "    </tr>\n",
       "    <tr>\n",
       "      <th>neworleans</th>\n",
       "      <td>1519.564186</td>\n",
       "      <td>151</td>\n",
       "    </tr>\n",
       "    <tr>\n",
       "      <th>afrocuban</th>\n",
       "      <td>1610.531101</td>\n",
       "      <td>161</td>\n",
       "    </tr>\n",
       "    <tr>\n",
       "      <th>hiphop</th>\n",
       "      <td>2025.612826</td>\n",
       "      <td>202</td>\n",
       "    </tr>\n",
       "    <tr>\n",
       "      <th>jazz</th>\n",
       "      <td>4115.426525</td>\n",
       "      <td>411</td>\n",
       "    </tr>\n",
       "    <tr>\n",
       "      <th>funk</th>\n",
       "      <td>4413.172960</td>\n",
       "      <td>441</td>\n",
       "    </tr>\n",
       "    <tr>\n",
       "      <th>latin</th>\n",
       "      <td>6953.082032</td>\n",
       "      <td>695</td>\n",
       "    </tr>\n",
       "    <tr>\n",
       "      <th>rock</th>\n",
       "      <td>10718.978988</td>\n",
       "      <td>1071</td>\n",
       "    </tr>\n",
       "  </tbody>\n",
       "</table>\n",
       "</div>"
      ],
      "text/plain": [
       "                   duration  number_sequences\n",
       "style                                        \n",
       "gospel           139.527083                13\n",
       "middleeastern    226.604932                22\n",
       "blues            288.831759                28\n",
       "country          299.666435                29\n",
       "punk             484.656602                48\n",
       "reggae           619.261933                61\n",
       "pop              637.575426                63\n",
       "dance            656.424061                65\n",
       "afrobeat         796.189359                79\n",
       "soul            1465.337106               146\n",
       "neworleans      1519.564186               151\n",
       "afrocuban       1610.531101               161\n",
       "hiphop          2025.612826               202\n",
       "jazz            4115.426525               411\n",
       "funk            4413.172960               441\n",
       "latin           6953.082032               695\n",
       "rock           10718.978988              1071"
      ]
     },
     "execution_count": 43,
     "metadata": {},
     "output_type": "execute_result"
    }
   ],
   "source": [
    "seq=10\n",
    "count_sequences(df_drummers, seq)"
   ]
  }
 ],
 "metadata": {
  "kernelspec": {
   "display_name": "Python 3 (ipykernel)",
   "language": "python",
   "name": "python3"
  },
  "language_info": {
   "codemirror_mode": {
    "name": "ipython",
    "version": 3
   },
   "file_extension": ".py",
   "mimetype": "text/x-python",
   "name": "python",
   "nbconvert_exporter": "python",
   "pygments_lexer": "ipython3",
   "version": "3.10.6"
  },
  "toc": {
   "base_numbering": 1,
   "nav_menu": {},
   "number_sections": true,
   "sideBar": true,
   "skip_h1_title": false,
   "title_cell": "Table of Contents",
   "title_sidebar": "Contents",
   "toc_cell": false,
   "toc_position": {},
   "toc_section_display": true,
   "toc_window_display": false
  }
 },
 "nbformat": 4,
 "nbformat_minor": 5
}
